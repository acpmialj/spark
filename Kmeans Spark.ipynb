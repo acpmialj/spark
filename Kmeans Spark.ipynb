{
 "cells": [
  {
   "cell_type": "markdown",
   "id": "552eb1d8-2028-473d-8f23-630151ac7d7f",
   "metadata": {},
   "source": [
    "## ML con DataFrames\n",
    "La interfaz de DataFrames es más moderna que la de RDDs, que en el futuro quedará obsoleta"
   ]
  },
  {
   "cell_type": "code",
   "execution_count": 1,
   "id": "f471beec-ea47-4d46-b258-c993cd89fbf2",
   "metadata": {},
   "outputs": [],
   "source": [
    "##\n",
    "## Se cargan librerías auxiliares que\n",
    "## pueden ser de utilidad en el desarrollo\n",
    "## del código\n",
    "##\n",
    "import pandas as pd\n",
    "import numpy as np\n",
    "import matplotlib.pyplot as plt\n",
    "%matplotlib inline"
   ]
  },
  {
   "cell_type": "code",
   "execution_count": 2,
   "id": "b0392b33-a42a-4571-ada2-b9b068c4f24d",
   "metadata": {},
   "outputs": [
    {
     "name": "stderr",
     "output_type": "stream",
     "text": [
      "Setting default log level to \"WARN\".\n",
      "To adjust logging level use sc.setLogLevel(newLevel). For SparkR, use setLogLevel(newLevel).\n"
     ]
    }
   ],
   "source": [
    "##\n",
    "## Carga de las librerías de Spark\n",
    "##\n",
    "import findspark\n",
    "from pyspark import SparkConf, SparkContext\n",
    "from pyspark.sql import SparkSession\n",
    "\n",
    "findspark.init()\n",
    "\n",
    "APP_NAME = \"spark-kmeans-app\"\n",
    "\n",
    "conf = SparkConf().setAppName(APP_NAME)\n",
    "sc = SparkContext(conf=conf)\n",
    "spark = SparkSession(sc)"
   ]
  },
  {
   "cell_type": "code",
   "execution_count": 3,
   "id": "8d63b489-4862-4767-80dc-2b9e6204f8d7",
   "metadata": {},
   "outputs": [
    {
     "name": "stdout",
     "output_type": "stream",
     "text": [
      "--2022-11-21 18:01:24--  https://raw.githubusercontent.com/jdvelasq/datalabs/master/datasets/snsdata.csv\n",
      "Resolving raw.githubusercontent.com (raw.githubusercontent.com)... 185.199.111.133, 185.199.108.133, 185.199.109.133, ...\n",
      "Connecting to raw.githubusercontent.com (raw.githubusercontent.com)|185.199.111.133|:443... connected.\n",
      "HTTP request sent, awaiting response... 200 OK\n",
      "Length: 2631136 (2.5M) [text/plain]\n",
      "Saving to: ‘snsdata.csv’\n",
      "\n",
      "snsdata.csv         100%[===================>]   2.51M  5.15MB/s    in 0.5s    \n",
      "\n",
      "2022-11-21 18:01:25 (5.15 MB/s) - ‘snsdata.csv’ saved [2631136/2631136]\n",
      "\n"
     ]
    }
   ],
   "source": [
    "!wget https://raw.githubusercontent.com/jdvelasq/datalabs/master/datasets/snsdata.csv"
   ]
  },
  {
   "cell_type": "code",
   "execution_count": 4,
   "id": "4157fefc-79d6-4488-9c4e-adcd86a6b400",
   "metadata": {},
   "outputs": [
    {
     "name": "stdout",
     "output_type": "stream",
     "text": [
      "gradyear,gender,age,friends,basketball,football,soccer,softball,volleyball,swimming,cheerleading,baseball,tennis,sports,cute,sex,sexy,hot,kissed,dance,band,marching,music,rock,god,church,jesus,bible,hair,dress,blonde,mall,shopping,clothes,hollister,abercrombie,die,death,drunk,drugs\n",
      "2006,M,18.982,7,0,0,0,0,0,0,0,0,0,0,0,0,0,0,0,1,0,0,0,0,0,0,0,0,0,0,0,0,0,0,0,0,0,0,0,0\n",
      "2006,F,18.801,0,0,1,0,0,0,0,0,0,0,0,1,0,0,0,0,0,0,0,2,2,1,0,0,0,6,4,0,1,0,0,0,0,0,0,0,0\n",
      "2006,M,18.335,69,0,1,0,0,0,0,0,0,0,0,0,0,0,0,0,0,2,0,1,0,0,0,0,0,0,0,0,0,0,0,0,0,0,1,0,0\n",
      "2006,F,18.875,0,0,0,0,0,0,0,0,0,0,0,1,0,0,0,0,0,0,0,0,1,0,0,0,0,0,0,0,0,0,0,0,0,0,0,0,0\n",
      "2006,NA,18.995,10,0,0,0,0,0,0,0,0,0,0,0,1,0,0,5,1,1,0,3,0,1,0,0,0,1,0,0,0,2,0,0,0,0,0,1,1\n",
      "2006,F,,142,0,0,0,0,0,0,0,0,0,0,0,1,0,0,0,0,0,1,2,0,0,0,0,0,0,1,0,0,1,0,0,0,0,0,1,0\n",
      "2006,F,18.93,72,0,0,0,0,0,0,0,0,0,0,0,0,0,0,0,0,1,1,0,0,0,0,0,0,0,0,0,2,0,0,2,0,0,0,0,0\n",
      "2006,M,18.322,17,0,0,0,1,0,0,0,0,0,0,0,2,1,0,0,0,0,0,1,1,0,0,0,0,0,0,0,0,0,0,0,0,0,0,0,0\n",
      "2006,F,19.055,52,0,0,0,0,0,0,0,0,0,0,0,0,0,0,0,0,0,0,0,0,0,0,0,0,0,0,0,0,0,0,0,0,0,0,0,0\n"
     ]
    }
   ],
   "source": [
    "##\n",
    "## Contenido del archivo\n",
    "##\n",
    "!head snsdata.csv"
   ]
  },
  {
   "cell_type": "code",
   "execution_count": 5,
   "id": "1c1d1ca4-73a0-43e7-85f3-f0322e5f82c5",
   "metadata": {},
   "outputs": [],
   "source": [
    "##\n",
    "## Mueve el archivo de datos al hdfs\n",
    "##\n",
    "!hdfs dfs -copyFromLocal snsdata.csv /tmp/snsdata.csv"
   ]
  },
  {
   "cell_type": "code",
   "execution_count": 61,
   "id": "bf91231c-a559-4a30-8f4a-1878bdb414d1",
   "metadata": {},
   "outputs": [
    {
     "name": "stderr",
     "output_type": "stream",
     "text": [
      "                                                                                \r"
     ]
    },
    {
     "data": {
      "text/plain": [
       "30000"
      ]
     },
     "execution_count": 61,
     "metadata": {},
     "output_type": "execute_result"
    }
   ],
   "source": [
    "##\n",
    "## Se carga el archivo en PySpark\n",
    "##\n",
    "spark_df = spark.read.load(\"/tmp/snsdata.csv\",\n",
    "                           format=\"csv\",\n",
    "                           sep=\",\",\n",
    "                           inferSchema=\"true\",\n",
    "                           header=\"true\")\n",
    "\n",
    "##\n",
    "## Número de registros cargados\n",
    "##\n",
    "spark_df.count()"
   ]
  },
  {
   "cell_type": "code",
   "execution_count": 62,
   "id": "87a72809-8b16-419c-a84d-72a7719f52fc",
   "metadata": {},
   "outputs": [
    {
     "name": "stdout",
     "output_type": "stream",
     "text": [
      "root\n",
      " |-- gradyear: integer (nullable = true)\n",
      " |-- gender: string (nullable = true)\n",
      " |-- age: double (nullable = true)\n",
      " |-- friends: integer (nullable = true)\n",
      " |-- basketball: integer (nullable = true)\n",
      " |-- football: integer (nullable = true)\n",
      " |-- soccer: integer (nullable = true)\n",
      " |-- softball: integer (nullable = true)\n",
      " |-- volleyball: integer (nullable = true)\n",
      " |-- swimming: integer (nullable = true)\n",
      " |-- cheerleading: integer (nullable = true)\n",
      " |-- baseball: integer (nullable = true)\n",
      " |-- tennis: integer (nullable = true)\n",
      " |-- sports: integer (nullable = true)\n",
      " |-- cute: integer (nullable = true)\n",
      " |-- sex: integer (nullable = true)\n",
      " |-- sexy: integer (nullable = true)\n",
      " |-- hot: integer (nullable = true)\n",
      " |-- kissed: integer (nullable = true)\n",
      " |-- dance: integer (nullable = true)\n",
      " |-- band: integer (nullable = true)\n",
      " |-- marching: integer (nullable = true)\n",
      " |-- music: integer (nullable = true)\n",
      " |-- rock: integer (nullable = true)\n",
      " |-- god: integer (nullable = true)\n",
      " |-- church: integer (nullable = true)\n",
      " |-- jesus: integer (nullable = true)\n",
      " |-- bible: integer (nullable = true)\n",
      " |-- hair: integer (nullable = true)\n",
      " |-- dress: integer (nullable = true)\n",
      " |-- blonde: integer (nullable = true)\n",
      " |-- mall: integer (nullable = true)\n",
      " |-- shopping: integer (nullable = true)\n",
      " |-- clothes: integer (nullable = true)\n",
      " |-- hollister: integer (nullable = true)\n",
      " |-- abercrombie: integer (nullable = true)\n",
      " |-- die: integer (nullable = true)\n",
      " |-- death: integer (nullable = true)\n",
      " |-- drunk: integer (nullable = true)\n",
      " |-- drugs: integer (nullable = true)\n",
      "\n"
     ]
    }
   ],
   "source": [
    "##\n",
    "## Tipos de datos de los campos del DataFrame\n",
    "##\n",
    "spark_df.printSchema()"
   ]
  },
  {
   "cell_type": "code",
   "execution_count": 63,
   "id": "cd102831-ea5d-4a5d-b2ff-833d292e9837",
   "metadata": {},
   "outputs": [
    {
     "name": "stderr",
     "output_type": "stream",
     "text": [
      "                                                                                \r"
     ]
    },
    {
     "data": {
      "text/html": [
       "<div>\n",
       "<style scoped>\n",
       "    .dataframe tbody tr th:only-of-type {\n",
       "        vertical-align: middle;\n",
       "    }\n",
       "\n",
       "    .dataframe tbody tr th {\n",
       "        vertical-align: top;\n",
       "    }\n",
       "\n",
       "    .dataframe thead th {\n",
       "        text-align: right;\n",
       "    }\n",
       "</style>\n",
       "<table border=\"1\" class=\"dataframe\">\n",
       "  <thead>\n",
       "    <tr style=\"text-align: right;\">\n",
       "      <th></th>\n",
       "      <th>gender</th>\n",
       "      <th>count</th>\n",
       "    </tr>\n",
       "  </thead>\n",
       "  <tbody>\n",
       "    <tr>\n",
       "      <th>0</th>\n",
       "      <td>F</td>\n",
       "      <td>22054</td>\n",
       "    </tr>\n",
       "    <tr>\n",
       "      <th>1</th>\n",
       "      <td>NA</td>\n",
       "      <td>2724</td>\n",
       "    </tr>\n",
       "    <tr>\n",
       "      <th>2</th>\n",
       "      <td>M</td>\n",
       "      <td>5222</td>\n",
       "    </tr>\n",
       "  </tbody>\n",
       "</table>\n",
       "</div>"
      ],
      "text/plain": [
       "  gender  count\n",
       "0      F  22054\n",
       "1     NA   2724\n",
       "2      M   5222"
      ]
     },
     "execution_count": 63,
     "metadata": {},
     "output_type": "execute_result"
    }
   ],
   "source": [
    "##\n",
    "## Conteo por género\n",
    "##\n",
    "spark_df.groupBy('gender').count().toPandas()"
   ]
  },
  {
   "cell_type": "code",
   "execution_count": 64,
   "id": "fa1e2791-93df-4db6-96a4-89cd9c37d5e6",
   "metadata": {},
   "outputs": [
    {
     "data": {
      "text/html": [
       "<div>\n",
       "<style scoped>\n",
       "    .dataframe tbody tr th:only-of-type {\n",
       "        vertical-align: middle;\n",
       "    }\n",
       "\n",
       "    .dataframe tbody tr th {\n",
       "        vertical-align: top;\n",
       "    }\n",
       "\n",
       "    .dataframe thead th {\n",
       "        text-align: right;\n",
       "    }\n",
       "</style>\n",
       "<table border=\"1\" class=\"dataframe\">\n",
       "  <thead>\n",
       "    <tr style=\"text-align: right;\">\n",
       "      <th></th>\n",
       "      <th>summary</th>\n",
       "      <th>age</th>\n",
       "    </tr>\n",
       "  </thead>\n",
       "  <tbody>\n",
       "    <tr>\n",
       "      <th>0</th>\n",
       "      <td>count</td>\n",
       "      <td>24914</td>\n",
       "    </tr>\n",
       "    <tr>\n",
       "      <th>1</th>\n",
       "      <td>mean</td>\n",
       "      <td>17.993949546439772</td>\n",
       "    </tr>\n",
       "    <tr>\n",
       "      <th>2</th>\n",
       "      <td>stddev</td>\n",
       "      <td>7.858054477853863</td>\n",
       "    </tr>\n",
       "    <tr>\n",
       "      <th>3</th>\n",
       "      <td>min</td>\n",
       "      <td>3.086</td>\n",
       "    </tr>\n",
       "    <tr>\n",
       "      <th>4</th>\n",
       "      <td>max</td>\n",
       "      <td>106.927</td>\n",
       "    </tr>\n",
       "  </tbody>\n",
       "</table>\n",
       "</div>"
      ],
      "text/plain": [
       "  summary                 age\n",
       "0   count               24914\n",
       "1    mean  17.993949546439772\n",
       "2  stddev   7.858054477853863\n",
       "3     min               3.086\n",
       "4     max             106.927"
      ]
     },
     "execution_count": 64,
     "metadata": {},
     "output_type": "execute_result"
    }
   ],
   "source": [
    "##\n",
    "## Se analizan los rangos de las variables\n",
    "## para determinar si hay datos por fuera de sus\n",
    "## rangos válidos. La variable `edad` contiene\n",
    "## datos por fuera de la población de interés.\n",
    "##\n",
    "## La muestra contiene un rango de edades\n",
    "## por fuera de la población de interés\n",
    "##\n",
    "spark_df.select('age').describe().toPandas()"
   ]
  },
  {
   "cell_type": "code",
   "execution_count": 65,
   "id": "f9c2e4cb-ef98-41c6-aa34-1076031a20bc",
   "metadata": {},
   "outputs": [
    {
     "data": {
      "text/html": [
       "<div>\n",
       "<style scoped>\n",
       "    .dataframe tbody tr th:only-of-type {\n",
       "        vertical-align: middle;\n",
       "    }\n",
       "\n",
       "    .dataframe tbody tr th {\n",
       "        vertical-align: top;\n",
       "    }\n",
       "\n",
       "    .dataframe thead th {\n",
       "        text-align: right;\n",
       "    }\n",
       "</style>\n",
       "<table border=\"1\" class=\"dataframe\">\n",
       "  <thead>\n",
       "    <tr style=\"text-align: right;\">\n",
       "      <th></th>\n",
       "      <th>summary</th>\n",
       "      <th>age</th>\n",
       "    </tr>\n",
       "  </thead>\n",
       "  <tbody>\n",
       "    <tr>\n",
       "      <th>0</th>\n",
       "      <td>count</td>\n",
       "      <td>24914</td>\n",
       "    </tr>\n",
       "    <tr>\n",
       "      <th>1</th>\n",
       "      <td>mean</td>\n",
       "      <td>17.993949546439772</td>\n",
       "    </tr>\n",
       "    <tr>\n",
       "      <th>2</th>\n",
       "      <td>stddev</td>\n",
       "      <td>7.858054477853863</td>\n",
       "    </tr>\n",
       "    <tr>\n",
       "      <th>3</th>\n",
       "      <td>min</td>\n",
       "      <td>3.086</td>\n",
       "    </tr>\n",
       "    <tr>\n",
       "      <th>4</th>\n",
       "      <td>max</td>\n",
       "      <td>106.927</td>\n",
       "    </tr>\n",
       "  </tbody>\n",
       "</table>\n",
       "</div>"
      ],
      "text/plain": [
       "  summary                 age\n",
       "0   count               24914\n",
       "1    mean  17.993949546439772\n",
       "2  stddev   7.858054477853863\n",
       "3     min               3.086\n",
       "4     max             106.927"
      ]
     },
     "execution_count": 65,
     "metadata": {},
     "output_type": "execute_result"
    }
   ],
   "source": [
    "##\n",
    "## Se analizan los rangos de las variables\n",
    "## para determinar si hay datos por fuera de sus\n",
    "## rangos válidos. La variable `edad` contiene\n",
    "## datos por fuera de la población de interés.\n",
    "##\n",
    "## La muestra contiene un rango de edades\n",
    "## por fuera de la población de interés\n",
    "##\n",
    "spark_df.select('age').describe().toPandas()"
   ]
  },
  {
   "cell_type": "code",
   "execution_count": 66,
   "id": "06db96c8-8e21-4b73-8680-77b44ed86aa9",
   "metadata": {},
   "outputs": [
    {
     "data": {
      "text/plain": [
       "5086"
      ]
     },
     "execution_count": 66,
     "metadata": {},
     "output_type": "execute_result"
    }
   ],
   "source": [
    "##\n",
    "## Cantidad de nulos en la columna age\n",
    "##\n",
    "spark_df.filter(spark_df['age'].isNull()).count()"
   ]
  },
  {
   "cell_type": "code",
   "execution_count": 67,
   "id": "7a6aeaa4-88bf-4b6c-9d6b-4869946536c8",
   "metadata": {},
   "outputs": [
    {
     "data": {
      "text/html": [
       "<div>\n",
       "<style scoped>\n",
       "    .dataframe tbody tr th:only-of-type {\n",
       "        vertical-align: middle;\n",
       "    }\n",
       "\n",
       "    .dataframe tbody tr th {\n",
       "        vertical-align: top;\n",
       "    }\n",
       "\n",
       "    .dataframe thead th {\n",
       "        text-align: right;\n",
       "    }\n",
       "</style>\n",
       "<table border=\"1\" class=\"dataframe\">\n",
       "  <thead>\n",
       "    <tr style=\"text-align: right;\">\n",
       "      <th></th>\n",
       "      <th>summary</th>\n",
       "      <th>age1319</th>\n",
       "    </tr>\n",
       "  </thead>\n",
       "  <tbody>\n",
       "    <tr>\n",
       "      <th>0</th>\n",
       "      <td>count</td>\n",
       "      <td>24477</td>\n",
       "    </tr>\n",
       "    <tr>\n",
       "      <th>1</th>\n",
       "      <td>mean</td>\n",
       "      <td>17.25242893328433</td>\n",
       "    </tr>\n",
       "    <tr>\n",
       "      <th>2</th>\n",
       "      <td>stddev</td>\n",
       "      <td>1.1574649278955391</td>\n",
       "    </tr>\n",
       "    <tr>\n",
       "      <th>3</th>\n",
       "      <td>min</td>\n",
       "      <td>13.027</td>\n",
       "    </tr>\n",
       "    <tr>\n",
       "      <th>4</th>\n",
       "      <td>max</td>\n",
       "      <td>19.995</td>\n",
       "    </tr>\n",
       "  </tbody>\n",
       "</table>\n",
       "</div>"
      ],
      "text/plain": [
       "  summary             age1319\n",
       "0   count               24477\n",
       "1    mean   17.25242893328433\n",
       "2  stddev  1.1574649278955391\n",
       "3     min              13.027\n",
       "4     max              19.995"
      ]
     },
     "execution_count": 67,
     "metadata": {},
     "output_type": "execute_result"
    }
   ],
   "source": [
    "##\n",
    "## Se seleccionan las personas entre 13 y 20 años y\n",
    "## se descartan las demás observaciones\n",
    "##\n",
    "from pyspark.sql.functions import lit\n",
    "from pyspark.sql.functions import when\n",
    "from pyspark.sql.types import DoubleType\n",
    "\n",
    "##\n",
    "## Se agrega una columna con las edades entre 13 y 19,\n",
    "## reemplazando por null los valores por fuera de este\n",
    "## rango\n",
    "##\n",
    "spark_df = spark_df.withColumn(\n",
    "    'age1319',\n",
    "    when((spark_df['age'] >= 13) & (spark_df['age'] < 20),\n",
    "         spark_df['age']\n",
    "        ).otherwise(lit(None).cast(DoubleType())))\n",
    "\n",
    "##\n",
    "## Se verifican los valores en la nueva columna\n",
    "##\n",
    "spark_df.select('age1319').describe().toPandas()"
   ]
  },
  {
   "cell_type": "code",
   "execution_count": 68,
   "id": "ca5f56b6-aa57-45d2-82cb-4878ac5eb5f1",
   "metadata": {},
   "outputs": [
    {
     "name": "stderr",
     "output_type": "stream",
     "text": [
      "                                                                                \r"
     ]
    },
    {
     "name": "stdout",
     "output_type": "stream",
     "text": [
      "+--------+------------------+\n",
      "|gradyear|      avg(age1319)|\n",
      "+--------+------------------+\n",
      "|    2006|18.655857950872626|\n",
      "|    2007| 17.70617237497992|\n",
      "|    2008|16.767700737100785|\n",
      "|    2009|15.819573344509596|\n",
      "+--------+------------------+\n",
      "\n"
     ]
    }
   ],
   "source": [
    "##\n",
    "## Se calcula la edad promedio por año\n",
    "## de graduación para la muestra en el\n",
    "## rango de edades considerado\n",
    "##\n",
    "age_df = spark_df.groupby(\"gradyear\").mean().select(['gradyear', 'avg(age1319)']).orderBy('gradyear')\n",
    "age_df.show()"
   ]
  },
  {
   "cell_type": "code",
   "execution_count": 69,
   "id": "1b625f43-6589-470b-ac49-da352be1c5fb",
   "metadata": {},
   "outputs": [
    {
     "data": {
      "text/plain": [
       "['friends',\n",
       " 'basketball',\n",
       " 'football',\n",
       " 'soccer',\n",
       " 'softball',\n",
       " 'volleyball',\n",
       " 'swimming',\n",
       " 'cheerleading',\n",
       " 'baseball',\n",
       " 'tennis',\n",
       " 'sports',\n",
       " 'cute',\n",
       " 'sex',\n",
       " 'sexy',\n",
       " 'hot',\n",
       " 'kissed',\n",
       " 'dance',\n",
       " 'band',\n",
       " 'marching',\n",
       " 'music',\n",
       " 'rock',\n",
       " 'god',\n",
       " 'church',\n",
       " 'jesus',\n",
       " 'bible',\n",
       " 'hair',\n",
       " 'dress',\n",
       " 'blonde',\n",
       " 'mall',\n",
       " 'shopping',\n",
       " 'clothes',\n",
       " 'hollister',\n",
       " 'abercrombie',\n",
       " 'die',\n",
       " 'death',\n",
       " 'drunk',\n",
       " 'drugs']"
      ]
     },
     "execution_count": 69,
     "metadata": {},
     "output_type": "execute_result"
    }
   ],
   "source": [
    "##\n",
    "## Se obtienen las columnas de las\n",
    "## características de intereses\n",
    "##\n",
    "inputCols = [a for a,_ in spark_df.dtypes]\n",
    "inputCols = inputCols[3:-1]\n",
    "inputCols"
   ]
  },
  {
   "cell_type": "code",
   "execution_count": 70,
   "id": "47201cff-64d4-4e25-8326-5c0410c9fc77",
   "metadata": {},
   "outputs": [
    {
     "name": "stdout",
     "output_type": "stream",
     "text": [
      "+--------------------+\n",
      "|         rawFeatures|\n",
      "+--------------------+\n",
      "|(37,[0,16],[7.0,1...|\n",
      "|(37,[2,11,19,20,2...|\n",
      "|(37,[0,2,17,19,34...|\n",
      "|(37,[11,20],[1.0,...|\n",
      "|(37,[0,12,15,16,1...|\n",
      "|(37,[0,12,18,19,2...|\n",
      "|(37,[0,17,18,28,3...|\n",
      "|(37,[0,4,12,13,19...|\n",
      "|     (37,[0],[52.0])|\n",
      "|(37,[0,11,14,19,2...|\n",
      "|      (37,[0],[8.0])|\n",
      "|(37,[0,2,22],[21....|\n",
      "|(37,[0,12,19],[87...|\n",
      "|          (37,[],[])|\n",
      "|(37,[16,19,21,26,...|\n",
      "|          (37,[],[])|\n",
      "|(37,[0,20,21],[13...|\n",
      "|(37,[0,3,10,19],[...|\n",
      "|(37,[0,1,2,10,22]...|\n",
      "|(37,[0,7,19,21,28...|\n",
      "+--------------------+\n",
      "only showing top 20 rows\n",
      "\n"
     ]
    }
   ],
   "source": [
    "from pyspark.ml.feature import VectorAssembler\n",
    "\n",
    "#\n",
    "# Transforma una colección de features-columna en una feature-lista\n",
    "# 37 es el número de elementos de cada lista. Luego vienen los valores para cada elemento\n",
    "#\n",
    "\n",
    "vectorAssembler = VectorAssembler(\n",
    "    inputCols = inputCols,\n",
    "    outputCol = 'rawFeatures')\n",
    "\n",
    "spark_df = vectorAssembler.transform(spark_df)\n",
    "\n",
    "spark_df.select('rawFeatures').show()"
   ]
  },
  {
   "cell_type": "code",
   "execution_count": 71,
   "id": "9e389909-53ca-442c-a087-013e482e3704",
   "metadata": {},
   "outputs": [
    {
     "name": "stdout",
     "output_type": "stream",
     "text": [
      "+--------+------+------+-------+----------+--------+------+--------+----------+--------+------------+--------+------+------+----+---+----+---+------+-----+----+--------+-----+----+---+------+-----+-----+----+-----+------+----+--------+-------+---------+-----------+---+-----+-----+-----+-------+--------------------+\n",
      "|gradyear|gender|   age|friends|basketball|football|soccer|softball|volleyball|swimming|cheerleading|baseball|tennis|sports|cute|sex|sexy|hot|kissed|dance|band|marching|music|rock|god|church|jesus|bible|hair|dress|blonde|mall|shopping|clothes|hollister|abercrombie|die|death|drunk|drugs|age1319|         rawFeatures|\n",
      "+--------+------+------+-------+----------+--------+------+--------+----------+--------+------------+--------+------+------+----+---+----+---+------+-----+----+--------+-----+----+---+------+-----+-----+----+-----+------+----+--------+-------+---------+-----------+---+-----+-----+-----+-------+--------------------+\n",
      "|    2006|     M|18.982|      7|         0|       0|     0|       0|         0|       0|           0|       0|     0|     0|   0|  0|   0|  0|     0|    1|   0|       0|    0|   0|  0|     0|    0|    0|   0|    0|     0|   0|       0|      0|        0|          0|  0|    0|    0|    0| 18.982|(37,[0,16],[7.0,1...|\n",
      "|    2006|     F|18.801|      0|         0|       1|     0|       0|         0|       0|           0|       0|     0|     0|   1|  0|   0|  0|     0|    0|   0|       0|    2|   2|  1|     0|    0|    0|   6|    4|     0|   1|       0|      0|        0|          0|  0|    0|    0|    0| 18.801|(37,[2,11,19,20,2...|\n",
      "|    2006|     M|18.335|     69|         0|       1|     0|       0|         0|       0|           0|       0|     0|     0|   0|  0|   0|  0|     0|    0|   2|       0|    1|   0|  0|     0|    0|    0|   0|    0|     0|   0|       0|      0|        0|          0|  0|    1|    0|    0| 18.335|(37,[0,2,17,19,34...|\n",
      "|    2006|     F|18.875|      0|         0|       0|     0|       0|         0|       0|           0|       0|     0|     0|   1|  0|   0|  0|     0|    0|   0|       0|    0|   1|  0|     0|    0|    0|   0|    0|     0|   0|       0|      0|        0|          0|  0|    0|    0|    0| 18.875|(37,[11,20],[1.0,...|\n",
      "|    2006|    NA|18.995|     10|         0|       0|     0|       0|         0|       0|           0|       0|     0|     0|   0|  1|   0|  0|     5|    1|   1|       0|    3|   0|  1|     0|    0|    0|   1|    0|     0|   0|       2|      0|        0|          0|  0|    0|    1|    1| 18.995|(37,[0,12,15,16,1...|\n",
      "|    2006|     F|  null|    142|         0|       0|     0|       0|         0|       0|           0|       0|     0|     0|   0|  1|   0|  0|     0|    0|   0|       1|    2|   0|  0|     0|    0|    0|   0|    1|     0|   0|       1|      0|        0|          0|  0|    0|    1|    0|   null|(37,[0,12,18,19,2...|\n",
      "|    2006|     F| 18.93|     72|         0|       0|     0|       0|         0|       0|           0|       0|     0|     0|   0|  0|   0|  0|     0|    0|   1|       1|    0|   0|  0|     0|    0|    0|   0|    0|     0|   2|       0|      0|        2|          0|  0|    0|    0|    0|  18.93|(37,[0,17,18,28,3...|\n",
      "|    2006|     M|18.322|     17|         0|       0|     0|       1|         0|       0|           0|       0|     0|     0|   0|  2|   1|  0|     0|    0|   0|       0|    1|   1|  0|     0|    0|    0|   0|    0|     0|   0|       0|      0|        0|          0|  0|    0|    0|    0| 18.322|(37,[0,4,12,13,19...|\n",
      "|    2006|     F|19.055|     52|         0|       0|     0|       0|         0|       0|           0|       0|     0|     0|   0|  0|   0|  0|     0|    0|   0|       0|    0|   0|  0|     0|    0|    0|   0|    0|     0|   0|       0|      0|        0|          0|  0|    0|    0|    0| 19.055|     (37,[0],[52.0])|\n",
      "|    2006|     F|18.708|     39|         0|       0|     0|       0|         0|       0|           0|       0|     0|     0|   1|  0|   0|  1|     0|    0|   0|       0|    1|   1|  6|     0|    2|    0|   1|    0|     0|   0|       1|      0|        0|          0|  0|    0|    0|    0| 18.708|(37,[0,11,14,19,2...|\n",
      "|    2006|     F|18.543|      8|         0|       0|     0|       0|         0|       0|           0|       0|     0|     0|   0|  0|   0|  0|     0|    0|   0|       0|    0|   0|  0|     0|    0|    0|   0|    0|     0|   0|       0|      0|        0|          0|  0|    0|    0|    0| 18.543|      (37,[0],[8.0])|\n",
      "|    2006|     F|19.463|     21|         0|       1|     0|       0|         0|       0|           0|       0|     0|     0|   0|  0|   0|  0|     0|    0|   0|       0|    0|   0|  0|     1|    0|    0|   0|    0|     0|   0|       0|      0|        0|          0|  0|    0|    0|    0| 19.463|(37,[0,2,22],[21....|\n",
      "|    2006|     F|18.097|     87|         0|       0|     0|       0|         0|       0|           0|       0|     0|     0|   0|  1|   0|  0|     0|    0|   0|       0|    1|   0|  0|     0|    0|    0|   0|    0|     0|   0|       0|      0|        0|          0|  0|    0|    0|    0| 18.097|(37,[0,12,19],[87...|\n",
      "|    2006|    NA|  null|      0|         0|       0|     0|       0|         0|       0|           0|       0|     0|     0|   0|  0|   0|  0|     0|    0|   0|       0|    0|   0|  0|     0|    0|    0|   0|    0|     0|   0|       0|      0|        0|          0|  0|    0|    0|    0|   null|          (37,[],[])|\n",
      "|    2006|     F|18.398|      0|         0|       0|     0|       0|         0|       0|           0|       0|     0|     0|   0|  0|   0|  0|     0|    1|   0|       0|    2|   0|  1|     0|    0|    0|   0|    1|     0|   0|       0|      1|        0|          0|  0|    0|    0|    0| 18.398|(37,[16,19,21,26,...|\n",
      "|    2006|    NA|  null|      0|         0|       0|     0|       0|         0|       0|           0|       0|     0|     0|   0|  0|   0|  0|     0|    0|   0|       0|    0|   0|  0|     0|    0|    0|   0|    0|     0|   0|       0|      0|        0|          0|  0|    0|    0|    0|   null|          (37,[],[])|\n",
      "|    2006|    NA|  null|    135|         0|       0|     0|       0|         0|       0|           0|       0|     0|     0|   0|  0|   0|  0|     0|    0|   0|       0|    0|   1|  1|     0|    0|    0|   0|    0|     0|   0|       0|      0|        0|          0|  0|    0|    0|    0|   null|(37,[0,20,21],[13...|\n",
      "|    2006|     F|18.987|     26|         0|       0|     2|       0|         0|       0|           0|       0|     0|     2|   0|  0|   0|  0|     0|    0|   0|       0|    1|   0|  0|     0|    0|    0|   0|    0|     0|   0|       0|      0|        0|          0|  0|    0|    0|    0| 18.987|(37,[0,3,10,19],[...|\n",
      "|    2006|     F|17.158|     27|         1|       1|     0|       0|         0|       0|           0|       0|     0|     1|   0|  0|   0|  0|     0|    0|   0|       0|    0|   0|  0|     1|    0|    0|   0|    0|     0|   0|       0|      0|        0|          0|  0|    0|    0|    0| 17.158|(37,[0,1,2,10,22]...|\n",
      "|    2006|     F|18.497|    123|         0|       0|     0|       0|         0|       0|           1|       0|     0|     0|   0|  0|   0|  0|     0|    0|   0|       0|    1|   0|  2|     0|    0|    0|   0|    0|     0|   1|       2|      0|        1|          1|  0|    0|    0|    0| 18.497|(37,[0,7,19,21,28...|\n",
      "+--------+------+------+-------+----------+--------+------+--------+----------+--------+------------+--------+------+------+----+---+----+---+------+-----+----+--------+-----+----+---+------+-----+-----+----+-----+------+----+--------+-------+---------+-----------+---+-----+-----+-----+-------+--------------------+\n",
      "only showing top 20 rows\n",
      "\n"
     ]
    }
   ],
   "source": [
    "spark_df.show()"
   ]
  },
  {
   "cell_type": "code",
   "execution_count": 80,
   "id": "d960b3c4-7a6a-40c1-beff-9241ed28936a",
   "metadata": {},
   "outputs": [
    {
     "name": "stderr",
     "output_type": "stream",
     "text": [
      "                                                                                \r"
     ]
    },
    {
     "name": "stdout",
     "output_type": "stream",
     "text": [
      "+--------------------+\n",
      "|            features|\n",
      "+--------------------+\n",
      "|(37,[0,16],[0.008...|\n",
      "|(37,[2,11,19,20,2...|\n",
      "|(37,[0,2,17,19,34...|\n",
      "|(37,[11,20],[0.05...|\n",
      "|(37,[0,12,15,16,1...|\n",
      "|(37,[0,12,18,19,2...|\n",
      "|(37,[0,17,18,28,3...|\n",
      "|(37,[0,4,12,13,19...|\n",
      "|(37,[0],[0.062650...|\n",
      "|(37,[0,11,14,19,2...|\n",
      "|(37,[0],[0.009638...|\n",
      "|(37,[0,2,22],[0.0...|\n",
      "|(37,[0,12,19],[0....|\n",
      "|          (37,[],[])|\n",
      "|(37,[16,19,21,26,...|\n",
      "|          (37,[],[])|\n",
      "|(37,[0,20,21],[0....|\n",
      "|(37,[0,3,10,19],[...|\n",
      "|(37,[0,1,2,10,22]...|\n",
      "|(37,[0,7,19,21,28...|\n",
      "+--------------------+\n",
      "only showing top 20 rows\n",
      "\n"
     ]
    }
   ],
   "source": [
    "from pyspark.ml.feature import MinMaxScaler\n",
    "\n",
    "##\n",
    "## Se construye el modelo y se entrena\n",
    "##\n",
    "scalerModel = MinMaxScaler(inputCol=\"rawFeatures\", outputCol=\"features\").fit(spark_df)\n",
    "\n",
    "##\n",
    "## Se aplica al DataFrame original para escalar los datos\n",
    "##\n",
    "spark_df_scaled = scalerModel.transform(spark_df)\n",
    "\n",
    "##\n",
    "## Se imprimen los datos escalados\n",
    "##\n",
    "spark_df_scaled.select(['features']).show()"
   ]
  },
  {
   "cell_type": "code",
   "execution_count": 81,
   "id": "908f72a0-8351-4087-a2d8-9445664982af",
   "metadata": {},
   "outputs": [
    {
     "name": "stderr",
     "output_type": "stream",
     "text": [
      "[Stage 428:>                                                        (0 + 1) / 1]\r"
     ]
    },
    {
     "name": "stdout",
     "output_type": "stream",
     "text": [
      "Silhouette with squared euclidean distance = 0.49128934366855725\n"
     ]
    },
    {
     "name": "stderr",
     "output_type": "stream",
     "text": [
      "                                                                                \r"
     ]
    }
   ],
   "source": [
    "from pyspark.ml.clustering import KMeans\n",
    "from pyspark.ml.evaluation import ClusteringEvaluator\n",
    "\n",
    "##\n",
    "## Se realiza el agrupamiento. SetK() indica la\n",
    "## cantidad de grupos para los que deben obtenerse\n",
    "## sus centros.\n",
    "##\n",
    "model = KMeans(featuresCol='features').setK(5).setSeed(1).fit(spark_df_scaled)\n",
    "\n",
    "spark_df_scaled = model.transform(spark_df_scaled)\n",
    "\n",
    "silhouette = ClusteringEvaluator().evaluate(spark_df_scaled)\n",
    "\n",
    "print(\"Silhouette with squared euclidean distance = \" + str(silhouette))"
   ]
  },
  {
   "cell_type": "code",
   "execution_count": 82,
   "id": "7b9998f9-b41e-4f8a-b32d-d807d92eeefc",
   "metadata": {},
   "outputs": [
    {
     "name": "stdout",
     "output_type": "stream",
     "text": [
      "+--------+------+------+-------+----------+--------+------+--------+----------+--------+------------+--------+------+------+----+---+----+---+------+-----+----+--------+-----+----+---+------+-----+-----+----+-----+------+----+--------+-------+---------+-----------+---+-----+-----+-----+-------+--------------------+--------------------+----------+\n",
      "|gradyear|gender|   age|friends|basketball|football|soccer|softball|volleyball|swimming|cheerleading|baseball|tennis|sports|cute|sex|sexy|hot|kissed|dance|band|marching|music|rock|god|church|jesus|bible|hair|dress|blonde|mall|shopping|clothes|hollister|abercrombie|die|death|drunk|drugs|age1319|         rawFeatures|            features|prediction|\n",
      "+--------+------+------+-------+----------+--------+------+--------+----------+--------+------------+--------+------+------+----+---+----+---+------+-----+----+--------+-----+----+---+------+-----+-----+----+-----+------+----+--------+-------+---------+-----------+---+-----+-----+-----+-------+--------------------+--------------------+----------+\n",
      "|    2006|     M|18.982|      7|         0|       0|     0|       0|         0|       0|           0|       0|     0|     0|   0|  0|   0|  0|     0|    1|   0|       0|    0|   0|  0|     0|    0|    0|   0|    0|     0|   0|       0|      0|        0|          0|  0|    0|    0|    0| 18.982|(37,[0,16],[7.0,1...|(37,[0,16],[0.008...|         1|\n",
      "|    2006|     F|18.801|      0|         0|       1|     0|       0|         0|       0|           0|       0|     0|     0|   1|  0|   0|  0|     0|    0|   0|       0|    2|   2|  1|     0|    0|    0|   6|    4|     0|   1|       0|      0|        0|          0|  0|    0|    0|    0| 18.801|(37,[2,11,19,20,2...|(37,[2,11,19,20,2...|         0|\n",
      "|    2006|     M|18.335|     69|         0|       1|     0|       0|         0|       0|           0|       0|     0|     0|   0|  0|   0|  0|     0|    0|   2|       0|    1|   0|  0|     0|    0|    0|   0|    0|     0|   0|       0|      0|        0|          0|  0|    1|    0|    0| 18.335|(37,[0,2,17,19,34...|(37,[0,2,17,19,34...|         1|\n",
      "|    2006|     F|18.875|      0|         0|       0|     0|       0|         0|       0|           0|       0|     0|     0|   1|  0|   0|  0|     0|    0|   0|       0|    0|   1|  0|     0|    0|    0|   0|    0|     0|   0|       0|      0|        0|          0|  0|    0|    0|    0| 18.875|(37,[11,20],[1.0,...|(37,[11,20],[0.05...|         1|\n",
      "|    2006|    NA|18.995|     10|         0|       0|     0|       0|         0|       0|           0|       0|     0|     0|   0|  1|   0|  0|     5|    1|   1|       0|    3|   0|  1|     0|    0|    0|   1|    0|     0|   0|       2|      0|        0|          0|  0|    0|    1|    1| 18.995|(37,[0,12,15,16,1...|(37,[0,12,15,16,1...|         0|\n",
      "|    2006|     F|  null|    142|         0|       0|     0|       0|         0|       0|           0|       0|     0|     0|   0|  1|   0|  0|     0|    0|   0|       1|    2|   0|  0|     0|    0|    0|   0|    1|     0|   0|       1|      0|        0|          0|  0|    0|    1|    0|   null|(37,[0,12,18,19,2...|(37,[0,12,18,19,2...|         1|\n",
      "|    2006|     F| 18.93|     72|         0|       0|     0|       0|         0|       0|           0|       0|     0|     0|   0|  0|   0|  0|     0|    0|   1|       1|    0|   0|  0|     0|    0|    0|   0|    0|     0|   2|       0|      0|        2|          0|  0|    0|    0|    0|  18.93|(37,[0,17,18,28,3...|(37,[0,17,18,28,3...|         1|\n",
      "|    2006|     M|18.322|     17|         0|       0|     0|       1|         0|       0|           0|       0|     0|     0|   0|  2|   1|  0|     0|    0|   0|       0|    1|   1|  0|     0|    0|    0|   0|    0|     0|   0|       0|      0|        0|          0|  0|    0|    0|    0| 18.322|(37,[0,4,12,13,19...|(37,[0,4,12,13,19...|         1|\n",
      "|    2006|     F|19.055|     52|         0|       0|     0|       0|         0|       0|           0|       0|     0|     0|   0|  0|   0|  0|     0|    0|   0|       0|    0|   0|  0|     0|    0|    0|   0|    0|     0|   0|       0|      0|        0|          0|  0|    0|    0|    0| 19.055|     (37,[0],[52.0])|(37,[0],[0.062650...|         1|\n",
      "|    2006|     F|18.708|     39|         0|       0|     0|       0|         0|       0|           0|       0|     0|     0|   1|  0|   0|  1|     0|    0|   0|       0|    1|   1|  6|     0|    2|    0|   1|    0|     0|   0|       1|      0|        0|          0|  0|    0|    0|    0| 18.708|(37,[0,11,14,19,2...|(37,[0,11,14,19,2...|         1|\n",
      "|    2006|     F|18.543|      8|         0|       0|     0|       0|         0|       0|           0|       0|     0|     0|   0|  0|   0|  0|     0|    0|   0|       0|    0|   0|  0|     0|    0|    0|   0|    0|     0|   0|       0|      0|        0|          0|  0|    0|    0|    0| 18.543|      (37,[0],[8.0])|(37,[0],[0.009638...|         1|\n",
      "|    2006|     F|19.463|     21|         0|       1|     0|       0|         0|       0|           0|       0|     0|     0|   0|  0|   0|  0|     0|    0|   0|       0|    0|   0|  0|     1|    0|    0|   0|    0|     0|   0|       0|      0|        0|          0|  0|    0|    0|    0| 19.463|(37,[0,2,22],[21....|(37,[0,2,22],[0.0...|         1|\n",
      "|    2006|     F|18.097|     87|         0|       0|     0|       0|         0|       0|           0|       0|     0|     0|   0|  1|   0|  0|     0|    0|   0|       0|    1|   0|  0|     0|    0|    0|   0|    0|     0|   0|       0|      0|        0|          0|  0|    0|    0|    0| 18.097|(37,[0,12,19],[87...|(37,[0,12,19],[0....|         1|\n",
      "|    2006|    NA|  null|      0|         0|       0|     0|       0|         0|       0|           0|       0|     0|     0|   0|  0|   0|  0|     0|    0|   0|       0|    0|   0|  0|     0|    0|    0|   0|    0|     0|   0|       0|      0|        0|          0|  0|    0|    0|    0|   null|          (37,[],[])|          (37,[],[])|         1|\n",
      "|    2006|     F|18.398|      0|         0|       0|     0|       0|         0|       0|           0|       0|     0|     0|   0|  0|   0|  0|     0|    1|   0|       0|    2|   0|  1|     0|    0|    0|   0|    1|     0|   0|       0|      1|        0|          0|  0|    0|    0|    0| 18.398|(37,[16,19,21,26,...|(37,[16,19,21,26,...|         1|\n",
      "|    2006|    NA|  null|      0|         0|       0|     0|       0|         0|       0|           0|       0|     0|     0|   0|  0|   0|  0|     0|    0|   0|       0|    0|   0|  0|     0|    0|    0|   0|    0|     0|   0|       0|      0|        0|          0|  0|    0|    0|    0|   null|          (37,[],[])|          (37,[],[])|         1|\n",
      "|    2006|    NA|  null|    135|         0|       0|     0|       0|         0|       0|           0|       0|     0|     0|   0|  0|   0|  0|     0|    0|   0|       0|    0|   1|  1|     0|    0|    0|   0|    0|     0|   0|       0|      0|        0|          0|  0|    0|    0|    0|   null|(37,[0,20,21],[13...|(37,[0,20,21],[0....|         1|\n",
      "|    2006|     F|18.987|     26|         0|       0|     2|       0|         0|       0|           0|       0|     0|     2|   0|  0|   0|  0|     0|    0|   0|       0|    1|   0|  0|     0|    0|    0|   0|    0|     0|   0|       0|      0|        0|          0|  0|    0|    0|    0| 18.987|(37,[0,3,10,19],[...|(37,[0,3,10,19],[...|         1|\n",
      "|    2006|     F|17.158|     27|         1|       1|     0|       0|         0|       0|           0|       0|     0|     1|   0|  0|   0|  0|     0|    0|   0|       0|    0|   0|  0|     1|    0|    0|   0|    0|     0|   0|       0|      0|        0|          0|  0|    0|    0|    0| 17.158|(37,[0,1,2,10,22]...|(37,[0,1,2,10,22]...|         1|\n",
      "|    2006|     F|18.497|    123|         0|       0|     0|       0|         0|       0|           1|       0|     0|     0|   0|  0|   0|  0|     0|    0|   0|       0|    1|   0|  2|     0|    0|    0|   0|    0|     0|   1|       2|      0|        1|          1|  0|    0|    0|    0| 18.497|(37,[0,7,19,21,28...|(37,[0,7,19,21,28...|         0|\n",
      "+--------+------+------+-------+----------+--------+------+--------+----------+--------+------------+--------+------+------+----+---+----+---+------+-----+----+--------+-----+----+---+------+-----+-----+----+-----+------+----+--------+-------+---------+-----------+---+-----+-----+-----+-------+--------------------+--------------------+----------+\n",
      "only showing top 20 rows\n",
      "\n"
     ]
    }
   ],
   "source": [
    "spark_df_scaled.show()"
   ]
  },
  {
   "cell_type": "code",
   "execution_count": 83,
   "id": "2345bad9-2f83-4fe3-9b50-0327e7d9ad2b",
   "metadata": {},
   "outputs": [
    {
     "name": "stdout",
     "output_type": "stream",
     "text": [
      "Cluster Centers: \n",
      "[0.04642285 0.01810865 0.02572472 0.01256924 0.01525493 0.00739357\n",
      " 0.00838003 0.0084209  0.0086072  0.00859975 0.01751248 0.0419927\n",
      " 0.00411043 0.01259408 0.0126537  0.01125557 0.02924957 0.0066019\n",
      " 0.00455257 0.0182379  0.02011008 0.00775115 0.01042619 0.00470974\n",
      " 0.00201207 0.0295104  0.04006757 0.00082452 0.0710746  0.12505335\n",
      " 0.08322155 0.02643019 0.02188129 0.01469423 0.01330203 0.02652023\n",
      " 0.00930584]\n",
      "[0.03361011 0.008702   0.01378927 0.00717627 0.0069497  0.00326077\n",
      " 0.00334783 0.0033008  0.00584794 0.00520624 0.00959607 0.0121061\n",
      " 0.0012932  0.00644962 0.00568498 0.00230983 0.01060483 0.0041546\n",
      " 0.00364491 0.01009564 0.00941593 0.00535547 0.00450757 0.00349647\n",
      " 0.00186909 0.00725958 0.00654461 0.00016928 0.01077153 0.01246576\n",
      " 0.00528425 0.0033008  0.00269823 0.00705473 0.00702836 0.00770464\n",
      " 0.00257801]\n",
      "[0.04532758 0.03327114 0.02860697 0.01156256 0.04389816 0.22823383\n",
      " 0.00666025 0.00760088 0.00932836 0.00688226 0.03306385 0.02100608\n",
      " 0.00225844 0.00815368 0.01517413 0.00526215 0.01658375 0.0035052\n",
      " 0.00203528 0.012088   0.01350391 0.00724227 0.00768883 0.00443615\n",
      " 0.00260063 0.0149926  0.01381979 0.00046784 0.02394279 0.04217549\n",
      " 0.02021144 0.00981205 0.00932836 0.00706694 0.00808458 0.01088308\n",
      " 0.00474192]\n",
      "[0.04773903 0.01812886 0.03708987 0.00882337 0.01384577 0.01059711\n",
      " 0.00621232 0.32065304 0.01078816 0.00466001 0.01331431 0.03249326\n",
      " 0.00276547 0.01117451 0.01840228 0.0075716  0.02239658 0.00406346\n",
      " 0.00220464 0.01161287 0.01691461 0.0075841  0.00846194 0.00380409\n",
      " 0.00246401 0.01839072 0.0171184  0.00088559 0.03542558 0.06626897\n",
      " 0.02763909 0.02393406 0.0203281  0.0090131  0.00927247 0.0128388\n",
      " 0.00490371]\n",
      "[0.04299495 0.01614833 0.02860181 0.01264103 0.01379116 0.0102529\n",
      " 0.00725421 0.01541733 0.01016746 0.00893142 0.01780968 0.04368244\n",
      " 0.00432301 0.02188552 0.26331738 0.00821985 0.02743222 0.00604127\n",
      " 0.0030448  0.01632277 0.02339181 0.00892334 0.00797448 0.00473153\n",
      " 0.00260983 0.02525971 0.02303739 0.00068771 0.04691653 0.05002175\n",
      " 0.04047049 0.02037923 0.01455343 0.01319414 0.01253133 0.02113238\n",
      " 0.00657895]\n"
     ]
    }
   ],
   "source": [
    "centers = model.clusterCenters()\n",
    "print(\"Cluster Centers: \")\n",
    "for center in centers:\n",
    "    print(center)"
   ]
  },
  {
   "cell_type": "code",
   "execution_count": 84,
   "id": "e4b8eb58-ca6a-4695-9376-c9bf13ef064e",
   "metadata": {},
   "outputs": [
    {
     "name": "stdout",
     "output_type": "stream",
     "text": [
      "+----------+\n",
      "|prediction|\n",
      "+----------+\n",
      "|         1|\n",
      "|         0|\n",
      "|         1|\n",
      "|         1|\n",
      "|         0|\n",
      "|         1|\n",
      "|         1|\n",
      "|         1|\n",
      "|         1|\n",
      "|         1|\n",
      "|         1|\n",
      "|         1|\n",
      "|         1|\n",
      "|         1|\n",
      "|         1|\n",
      "|         1|\n",
      "|         1|\n",
      "|         1|\n",
      "|         1|\n",
      "|         0|\n",
      "+----------+\n",
      "only showing top 20 rows\n",
      "\n"
     ]
    }
   ],
   "source": [
    "spark_df_scaled.select('prediction').show()"
   ]
  },
  {
   "cell_type": "code",
   "execution_count": 85,
   "id": "89493b30-02ad-4bff-878d-7de3f481e4e4",
   "metadata": {},
   "outputs": [
    {
     "name": "stderr",
     "output_type": "stream",
     "text": [
      "                                                                                \r"
     ]
    },
    {
     "data": {
      "text/html": [
       "<div>\n",
       "<style scoped>\n",
       "    .dataframe tbody tr th:only-of-type {\n",
       "        vertical-align: middle;\n",
       "    }\n",
       "\n",
       "    .dataframe tbody tr th {\n",
       "        vertical-align: top;\n",
       "    }\n",
       "\n",
       "    .dataframe thead th {\n",
       "        text-align: right;\n",
       "    }\n",
       "</style>\n",
       "<table border=\"1\" class=\"dataframe\">\n",
       "  <thead>\n",
       "    <tr style=\"text-align: right;\">\n",
       "      <th></th>\n",
       "      <th>prediction</th>\n",
       "      <th>count</th>\n",
       "    </tr>\n",
       "  </thead>\n",
       "  <tbody>\n",
       "    <tr>\n",
       "      <th>0</th>\n",
       "      <td>1</td>\n",
       "      <td>23396</td>\n",
       "    </tr>\n",
       "    <tr>\n",
       "      <th>1</th>\n",
       "      <td>3</td>\n",
       "      <td>701</td>\n",
       "    </tr>\n",
       "    <tr>\n",
       "      <th>2</th>\n",
       "      <td>4</td>\n",
       "      <td>627</td>\n",
       "    </tr>\n",
       "    <tr>\n",
       "      <th>3</th>\n",
       "      <td>2</td>\n",
       "      <td>805</td>\n",
       "    </tr>\n",
       "    <tr>\n",
       "      <th>4</th>\n",
       "      <td>0</td>\n",
       "      <td>4471</td>\n",
       "    </tr>\n",
       "  </tbody>\n",
       "</table>\n",
       "</div>"
      ],
      "text/plain": [
       "   prediction  count\n",
       "0           1  23396\n",
       "1           3    701\n",
       "2           4    627\n",
       "3           2    805\n",
       "4           0   4471"
      ]
     },
     "execution_count": 85,
     "metadata": {},
     "output_type": "execute_result"
    }
   ],
   "source": [
    "##\n",
    "## Número de patrones asignados a cada cluster\n",
    "##\n",
    "spark_df_scaled.groupBy('prediction').count().toPandas()"
   ]
  },
  {
   "cell_type": "code",
   "execution_count": 38,
   "id": "d32e23a8-ca5e-4765-9097-36e1f2a7125d",
   "metadata": {},
   "outputs": [
    {
     "name": "stdout",
     "output_type": "stream",
     "text": [
      "+----------+------+------+-------+\n",
      "|prediction|gender|   age|friends|\n",
      "+----------+------+------+-------+\n",
      "|         1|     M|18.982|      7|\n",
      "|         0|     F|18.801|      0|\n",
      "|         1|     M|18.335|     69|\n",
      "|         1|     F|18.875|      0|\n",
      "|         0|    NA|18.995|     10|\n",
      "|         1|     F|  null|    142|\n",
      "|         1|     F| 18.93|     72|\n",
      "|         1|     M|18.322|     17|\n",
      "|         1|     F|19.055|     52|\n",
      "|         1|     F|18.708|     39|\n",
      "|         1|     F|18.543|      8|\n",
      "|         1|     F|19.463|     21|\n",
      "|         1|     F|18.097|     87|\n",
      "|         1|    NA|  null|      0|\n",
      "|         1|     F|18.398|      0|\n",
      "|         1|    NA|  null|      0|\n",
      "|         1|    NA|  null|    135|\n",
      "|         1|     F|18.987|     26|\n",
      "|         1|     F|17.158|     27|\n",
      "|         0|     F|18.497|    123|\n",
      "+----------+------+------+-------+\n",
      "only showing top 20 rows\n",
      "\n"
     ]
    }
   ],
   "source": [
    "##\n",
    "## clusters a los que pertenecen los primeros patrones\n",
    "##\n",
    "spark_df_scaled.select([\"prediction\", \"gender\", \"age\", \"friends\"]).show()"
   ]
  },
  {
   "cell_type": "code",
   "execution_count": 87,
   "id": "f3258972-83b3-4c18-865c-80d654ac65a8",
   "metadata": {},
   "outputs": [
    {
     "name": "stdout",
     "output_type": "stream",
     "text": [
      "root\n",
      " |-- gradyear: integer (nullable = true)\n",
      " |-- gender: string (nullable = true)\n",
      " |-- age: double (nullable = true)\n",
      " |-- friends: integer (nullable = true)\n",
      " |-- basketball: integer (nullable = true)\n",
      " |-- football: integer (nullable = true)\n",
      " |-- soccer: integer (nullable = true)\n",
      " |-- softball: integer (nullable = true)\n",
      " |-- volleyball: integer (nullable = true)\n",
      " |-- swimming: integer (nullable = true)\n",
      " |-- cheerleading: integer (nullable = true)\n",
      " |-- baseball: integer (nullable = true)\n",
      " |-- tennis: integer (nullable = true)\n",
      " |-- sports: integer (nullable = true)\n",
      " |-- cute: integer (nullable = true)\n",
      " |-- sex: integer (nullable = true)\n",
      " |-- sexy: integer (nullable = true)\n",
      " |-- hot: integer (nullable = true)\n",
      " |-- kissed: integer (nullable = true)\n",
      " |-- dance: integer (nullable = true)\n",
      " |-- band: integer (nullable = true)\n",
      " |-- marching: integer (nullable = true)\n",
      " |-- music: integer (nullable = true)\n",
      " |-- rock: integer (nullable = true)\n",
      " |-- god: integer (nullable = true)\n",
      " |-- church: integer (nullable = true)\n",
      " |-- jesus: integer (nullable = true)\n",
      " |-- bible: integer (nullable = true)\n",
      " |-- hair: integer (nullable = true)\n",
      " |-- dress: integer (nullable = true)\n",
      " |-- blonde: integer (nullable = true)\n",
      " |-- mall: integer (nullable = true)\n",
      " |-- shopping: integer (nullable = true)\n",
      " |-- clothes: integer (nullable = true)\n",
      " |-- hollister: integer (nullable = true)\n",
      " |-- abercrombie: integer (nullable = true)\n",
      " |-- die: integer (nullable = true)\n",
      " |-- death: integer (nullable = true)\n",
      " |-- drunk: integer (nullable = true)\n",
      " |-- drugs: integer (nullable = true)\n",
      " |-- age1319: double (nullable = true)\n",
      " |-- rawFeatures: vector (nullable = true)\n",
      " |-- features: vector (nullable = true)\n",
      " |-- prediction: integer (nullable = false)\n",
      "\n"
     ]
    }
   ],
   "source": [
    "spark_df_scaled.join(age_df, spark_df_scaled.gradyear == age_df.gradyear)\n",
    "spark_df_scaled.printSchema()"
   ]
  },
  {
   "cell_type": "code",
   "execution_count": 40,
   "id": "d6ebf577-917a-497f-b622-55288ba7ec7f",
   "metadata": {},
   "outputs": [
    {
     "name": "stderr",
     "output_type": "stream",
     "text": [
      "                                                                                \r"
     ]
    },
    {
     "name": "stdout",
     "output_type": "stream",
     "text": [
      "+----------+------------------+\n",
      "|prediction|      avg(age1319)|\n",
      "+----------+------------------+\n",
      "|         1| 17.30145693893734|\n",
      "|         3|16.982186241610723|\n",
      "|         4|16.995111324376204|\n",
      "|         2| 16.98059455370652|\n",
      "|         0|17.132831923890123|\n",
      "+----------+------------------+\n",
      "\n"
     ]
    }
   ],
   "source": [
    "##\n",
    "## Características demográficas de los clusters.\n",
    "## Edad por cluster.\n",
    "##\n",
    "spark_df_scaled.groupby(\"prediction\").mean().select(['prediction', 'avg(age1319)']).show()"
   ]
  },
  {
   "cell_type": "code",
   "execution_count": 44,
   "id": "5cfbd8b0-bfb2-4244-ac9e-86f16dbe9ae1",
   "metadata": {},
   "outputs": [],
   "source": [
    "##\n",
    "## Se agrega una columna indicadora para el genero\n",
    "##\n",
    "spark_df_scaled = spark_df_scaled.withColumn(\n",
    "    'isFemale',\n",
    "    when(spark_df_scaled['gender'] == 'F', 1).otherwise(0))"
   ]
  },
  {
   "cell_type": "code",
   "execution_count": 45,
   "id": "0eb058b2-69b3-4654-816d-84aebb6e70e4",
   "metadata": {},
   "outputs": [
    {
     "name": "stderr",
     "output_type": "stream",
     "text": [
      "[Stage 119:============================================>          (61 + 2) / 75]\r"
     ]
    },
    {
     "name": "stdout",
     "output_type": "stream",
     "text": [
      "+----------+------------------+\n",
      "|prediction|     avg(isFemale)|\n",
      "+----------+------------------+\n",
      "|         1| 0.691143785262438|\n",
      "|         3|0.9072753209700428|\n",
      "|         4|0.8883572567783095|\n",
      "|         2|0.8944099378881988|\n",
      "|         0|0.8881681950346678|\n",
      "+----------+------------------+\n",
      "\n"
     ]
    },
    {
     "name": "stderr",
     "output_type": "stream",
     "text": [
      "                                                                                \r"
     ]
    }
   ],
   "source": [
    "##\n",
    "## Cantidad de mujeres por cluster.\n",
    "##\n",
    "spark_df_scaled.groupby(\"prediction\").mean().select(['prediction', 'avg(isFemale)']).show()"
   ]
  },
  {
   "cell_type": "code",
   "execution_count": 106,
   "id": "1db1c020-ab75-47d1-ad7a-576e1f604ed8",
   "metadata": {},
   "outputs": [
    {
     "name": "stderr",
     "output_type": "stream",
     "text": [
      "                                                                                \r"
     ]
    },
    {
     "name": "stdout",
     "output_type": "stream",
     "text": [
      "+------+-----+\n",
      "|gender|count|\n",
      "+------+-----+\n",
      "|     F|22054|\n",
      "|    NA| 2724|\n",
      "|     M| 5222|\n",
      "+------+-----+\n",
      "\n"
     ]
    },
    {
     "name": "stderr",
     "output_type": "stream",
     "text": [
      "                                                                                \r"
     ]
    }
   ],
   "source": [
    "spark_df_scaled.groupby(\"gender\").count().select('gender', 'count').show()"
   ]
  },
  {
   "cell_type": "code",
   "execution_count": null,
   "id": "fbf28320-693e-4440-9f2c-1c567da24171",
   "metadata": {},
   "outputs": [],
   "source": []
  }
 ],
 "metadata": {
  "kernelspec": {
   "display_name": "Python 3 (ipykernel)",
   "language": "python",
   "name": "python3"
  },
  "language_info": {
   "codemirror_mode": {
    "name": "ipython",
    "version": 3
   },
   "file_extension": ".py",
   "mimetype": "text/x-python",
   "name": "python",
   "nbconvert_exporter": "python",
   "pygments_lexer": "ipython3",
   "version": "3.8.10"
  }
 },
 "nbformat": 4,
 "nbformat_minor": 5
}
