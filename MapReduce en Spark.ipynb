{
 "cells": [
  {
   "cell_type": "code",
   "execution_count": 26,
   "id": "cd92b1d3-1719-443d-b0e6-53203c1b5071",
   "metadata": {},
   "outputs": [
    {
     "name": "stdout",
     "output_type": "stream",
     "text": [
      "sh: 0: getcwd() failed: No such file or directory\n",
      "/tmp/wordcount\n",
      "input\n"
     ]
    }
   ],
   "source": [
    "#\n",
    "# Se crea el directorio de entrada\n",
    "#\n",
    "!rm -rf /tmp/wordcount\n",
    "!mkdir -p /tmp/wordcount/input\n",
    "%cd /tmp/wordcount\n",
    "!ls"
   ]
  },
  {
   "cell_type": "code",
   "execution_count": 27,
   "id": "e272a837-27d4-4dd2-8169-98b16da12fcc",
   "metadata": {},
   "outputs": [
    {
     "name": "stdout",
     "output_type": "stream",
     "text": [
      "Writing input/text0.txt\n"
     ]
    }
   ],
   "source": [
    "%%writefile input/text0.txt\n",
    "Analytics is the discovery, interpretation, and communication of meaningful patterns\n",
    "in data. Especially valuable in areas rich with recorded information, analytics relies\n",
    "on the simultaneous application of statistics, computer programming and operations research\n",
    "to quantify performance.\n",
    "\n",
    "Organizations may apply analytics to business data to describe, predict, and improve business\n",
    "performance. Specifically, areas within analytics include predictive analytics, prescriptive\n",
    "analytics, enterprise decision management, descriptive analytics, cognitive analytics, Big\n",
    "Data Analytics, retail analytics, store assortment and stock-keeping unit optimization,\n",
    "marketing optimization and marketing mix modeling, web analytics, call analytics, speech\n",
    "analytics, sales force sizing and optimization, price and promotion modeling, predictive\n",
    "science, credit risk analysis, and fraud analytics. Since analytics can require extensive\n",
    "computation (see big data), the algorithms and software used for analytics harness the most\n",
    "current methods in computer science, statistics, and mathematics."
   ]
  },
  {
   "cell_type": "code",
   "execution_count": 28,
   "id": "79f9433c-b22d-44c7-afcc-bb2bc203767f",
   "metadata": {},
   "outputs": [
    {
     "name": "stdout",
     "output_type": "stream",
     "text": [
      "Writing input/text1.txt\n"
     ]
    }
   ],
   "source": [
    "%%writefile input/text1.txt\n",
    "The field of data analysis. Analytics often involves studying past historical data to\n",
    "research potential trends, to analyze the effects of certain decisions or events, or to\n",
    "evaluate the performance of a given tool or scenario. The goal of analytics is to improve\n",
    "the business by gaining knowledge which can be used to make improvements or changes."
   ]
  },
  {
   "cell_type": "code",
   "execution_count": 29,
   "id": "d270965c-76a8-4c40-96f0-9e1f1b98fd07",
   "metadata": {},
   "outputs": [
    {
     "name": "stdout",
     "output_type": "stream",
     "text": [
      "Writing input/text2.txt\n"
     ]
    }
   ],
   "source": [
    "%%writefile input/text2.txt\n",
    "Data analytics (DA) is the process of examining data sets in order to draw conclusions\n",
    "about the information they contain, increasingly with the aid of specialized systems\n",
    "and software. Data analytics technologies and techniques are widely used in commercial\n",
    "industries to enable organizations to make more-informed business decisions and by\n",
    "scientists and researchers to verify or disprove scientific models, theories and\n",
    "hypotheses."
   ]
  },
  {
   "cell_type": "code",
   "execution_count": 30,
   "id": "81196ff1-832d-4523-a1c9-41447d3e9131",
   "metadata": {},
   "outputs": [
    {
     "name": "stdout",
     "output_type": "stream",
     "text": [
      "Found 3 items\n",
      "-rw-r--r--   1 root supergroup      88756 2022-11-21 16:45 /tmp/diabetes.csv\n",
      "-rw-r--r--   1 root supergroup    9719482 2022-11-21 17:02 /tmp/flights.csv\n",
      "drwxr-xr-x   - root supergroup          0 2022-11-21 17:13 /tmp/flightsWithDelays.orc\n"
     ]
    }
   ],
   "source": [
    "#\n",
    "# Se usan un directorio temporal en el HDFS. La siguiente\n",
    "# instrucción muestra el contenido del dicho directorio\n",
    "#\n",
    "!hdfs dfs -ls /tmp"
   ]
  },
  {
   "cell_type": "code",
   "execution_count": 31,
   "id": "cb427cf5-42aa-45b1-bbcc-00051148eb89",
   "metadata": {},
   "outputs": [],
   "source": [
    "#\n",
    "# Crea la carpeta wordcount en el hdfs\n",
    "#\n",
    "!hdfs dfs -mkdir /tmp/wordcount"
   ]
  },
  {
   "cell_type": "code",
   "execution_count": 32,
   "id": "64d6608f-6603-43e1-9ccd-51c7729dc420",
   "metadata": {},
   "outputs": [
    {
     "name": "stdout",
     "output_type": "stream",
     "text": [
      "Found 4 items\n",
      "-rw-r--r--   1 root supergroup      88756 2022-11-21 16:45 /tmp/diabetes.csv\n",
      "-rw-r--r--   1 root supergroup    9719482 2022-11-21 17:02 /tmp/flights.csv\n",
      "drwxr-xr-x   - root supergroup          0 2022-11-21 17:13 /tmp/flightsWithDelays.orc\n",
      "drwxr-xr-x   - root supergroup          0 2022-11-21 17:22 /tmp/wordcount\n"
     ]
    }
   ],
   "source": [
    "#\n",
    "# Verifica la creación de la carpeta\n",
    "#\n",
    "!hdfs dfs -ls /tmp/"
   ]
  },
  {
   "cell_type": "code",
   "execution_count": 33,
   "id": "2cbd9e63-70ed-4615-9950-55a10023cd20",
   "metadata": {},
   "outputs": [],
   "source": [
    "#\n",
    "# Copia los archvios del directorio local wordcount/\n",
    "# al directorio /tmp/wordcount/ en el hdfs\n",
    "#\n",
    "!hdfs dfs -copyFromLocal input  /tmp/wordcount/"
   ]
  },
  {
   "cell_type": "code",
   "execution_count": 34,
   "id": "b9a3a462-0b5b-40b6-908a-d424f5ad1531",
   "metadata": {},
   "outputs": [
    {
     "name": "stdout",
     "output_type": "stream",
     "text": [
      "Found 1 items\n",
      "drwxr-xr-x   - root supergroup          0 2022-11-21 17:22 /tmp/wordcount/input\n",
      "Found 3 items\n",
      "-rw-r--r--   1 root supergroup       1082 2022-11-21 17:22 /tmp/wordcount/input/text0.txt\n",
      "-rw-r--r--   1 root supergroup        349 2022-11-21 17:22 /tmp/wordcount/input/text1.txt\n",
      "-rw-r--r--   1 root supergroup        435 2022-11-21 17:22 /tmp/wordcount/input/text2.txt\n"
     ]
    }
   ],
   "source": [
    "#\n",
    "# Verifica que los archivos esten copiados en el hdfs\n",
    "#\n",
    "!hdfs dfs -ls /tmp/wordcount\n",
    "!hdfs dfs -ls /tmp/wordcount/input"
   ]
  },
  {
   "cell_type": "code",
   "execution_count": 35,
   "id": "58d323fb-4aa4-4431-973a-b1dcf0cf6a81",
   "metadata": {},
   "outputs": [],
   "source": [
    "#\n",
    "# findspark: Permite usar PySpark como una libreria de Python\n",
    "#\n",
    "import findspark\n",
    "findspark.init()\n",
    "\n",
    "#\n",
    "# Importa las librerias requeridas para conectar\n",
    "# a Python con PySpark\n",
    "#\n",
    "from pyspark import SparkConf, SparkContext\n",
    "\n",
    "#\n",
    "# operador de agregación (MapReduce)\n",
    "#\n",
    "from operator import add\n",
    "\n",
    "#\n",
    "# Nombre de la aplicación en el cluster\n",
    "#\n",
    "APP_NAME = \"My Spark Application\"\n",
    "\n",
    "#\n",
    "# Configure Spark\n",
    "#\n",
    "conf = SparkConf().setAppName(APP_NAME)\n",
    "sc.stop()\n",
    "sc = SparkContext(conf=conf)\n",
    "sc.setLogLevel('WARN')"
   ]
  },
  {
   "cell_type": "code",
   "execution_count": 37,
   "id": "bafb77f1-42ec-44a9-9bb4-4a17e8139f90",
   "metadata": {},
   "outputs": [
    {
     "data": {
      "text/plain": [
       "['Analytics is the discovery, interpretation, and communication of meaningful patterns',\n",
       " 'in data. Especially valuable in areas rich with recorded information, analytics relies',\n",
       " 'on the simultaneous application of statistics, computer programming and operations research',\n",
       " 'to quantify performance.',\n",
       " '',\n",
       " 'Organizations may apply analytics to business data to describe, predict, and improve business',\n",
       " 'performance. Specifically, areas within analytics include predictive analytics, prescriptive',\n",
       " 'analytics, enterprise decision management, descriptive analytics, cognitive analytics, Big',\n",
       " 'Data Analytics, retail analytics, store assortment and stock-keeping unit optimization,',\n",
       " 'marketing optimization and marketing mix modeling, web analytics, call analytics, speech']"
      ]
     },
     "execution_count": 37,
     "metadata": {},
     "output_type": "execute_result"
    }
   ],
   "source": [
    "#\n",
    "# Lee los archivos del HDFS y los carga a la variable text\n",
    "#\n",
    "text = sc.textFile(\"/tmp/wordcount/input/*.txt\")\n",
    "\n",
    "# Se imprimen las primeras 10 líneas\n",
    "text.collect()[0:10]"
   ]
  },
  {
   "cell_type": "code",
   "execution_count": 38,
   "id": "08063557-6d62-4c09-bc4e-f5680818a67d",
   "metadata": {},
   "outputs": [
    {
     "name": "stderr",
     "output_type": "stream",
     "text": [
      "                                                                                \r"
     ]
    },
    {
     "data": {
      "text/plain": [
       "['Analytics',\n",
       " 'is',\n",
       " 'the',\n",
       " 'discovery,',\n",
       " 'interpretation,',\n",
       " 'and',\n",
       " 'communication',\n",
       " 'of',\n",
       " 'meaningful',\n",
       " 'patterns']"
      ]
     },
     "execution_count": 38,
     "metadata": {},
     "output_type": "execute_result"
    }
   ],
   "source": [
    "#\n",
    "# separa por palabras (split) con una palabra por registro\n",
    "#\n",
    "words = text.flatMap(lambda x: x.split())\n",
    "\n",
    "# Se imprimen las primeras 10 palabras\n",
    "words.collect()[0:10]"
   ]
  },
  {
   "cell_type": "code",
   "execution_count": 40,
   "id": "e56fc33d-8d72-4368-b996-e1ee44a063be",
   "metadata": {},
   "outputs": [
    {
     "data": {
      "text/plain": [
       "[('Analytics', 1),\n",
       " ('is', 1),\n",
       " ('the', 1),\n",
       " ('discovery,', 1),\n",
       " ('interpretation,', 1),\n",
       " ('and', 1),\n",
       " ('communication', 1),\n",
       " ('of', 1),\n",
       " ('meaningful', 1),\n",
       " ('patterns', 1)]"
      ]
     },
     "execution_count": 40,
     "metadata": {},
     "output_type": "execute_result"
    }
   ],
   "source": [
    "#\n",
    "# Genera las parejas <clave, valor> representandolas\n",
    "# com la tupla (word, 1)\n",
    "#\n",
    "wc = words.map(lambda x: (x,1))\n",
    "wc.collect()[0:10]"
   ]
  },
  {
   "cell_type": "code",
   "execution_count": 41,
   "id": "11afea25-421d-4745-86e6-f2444ccf8a19",
   "metadata": {},
   "outputs": [
    {
     "name": "stderr",
     "output_type": "stream",
     "text": [
      "                                                                                \r"
     ]
    },
    {
     "data": {
      "text/plain": [
       "[('interpretation,', 1),\n",
       " ('of', 8),\n",
       " ('in', 5),\n",
       " ('data.', 1),\n",
       " ('Especially', 1),\n",
       " ('analytics', 8),\n",
       " ('simultaneous', 1),\n",
       " ('operations', 1),\n",
       " ('research', 2),\n",
       " ('quantify', 1)]"
      ]
     },
     "execution_count": 41,
     "metadata": {},
     "output_type": "execute_result"
    }
   ],
   "source": [
    "#\n",
    "# Suma los valores para la misma clave. Spark internamente ordena por claves\n",
    "#\n",
    "counts = wc.reduceByKey(add)\n",
    "counts.collect()[0:10]"
   ]
  },
  {
   "cell_type": "code",
   "execution_count": 42,
   "id": "d2a917ca-aef8-4555-bae8-a24b7bc9bb8d",
   "metadata": {},
   "outputs": [
    {
     "name": "stderr",
     "output_type": "stream",
     "text": [
      "                                                                                \r"
     ]
    }
   ],
   "source": [
    "#\n",
    "# Escribe los resultados al directorio `/tmp/output`\n",
    "#\n",
    "counts.saveAsTextFile(\"/tmp/wordcount/output\")"
   ]
  },
  {
   "cell_type": "code",
   "execution_count": 43,
   "id": "b12f1494-2ac8-4738-a95e-6fb6cae39d41",
   "metadata": {},
   "outputs": [
    {
     "name": "stdout",
     "output_type": "stream",
     "text": [
      "Found 2 items\n",
      "drwxr-xr-x   - root supergroup          0 2022-11-21 17:22 /tmp/wordcount/input\n",
      "drwxr-xr-x   - root supergroup          0 2022-11-21 17:23 /tmp/wordcount/output\n"
     ]
    }
   ],
   "source": [
    "!hdfs dfs -ls /tmp/wordcount/"
   ]
  },
  {
   "cell_type": "code",
   "execution_count": 44,
   "id": "887e431c-437c-4ea7-9aca-8335cde9dc9f",
   "metadata": {},
   "outputs": [
    {
     "name": "stdout",
     "output_type": "stream",
     "text": [
      "Found 5 items\n",
      "-rw-r--r--   1 root supergroup          0 2022-11-21 17:23 /tmp/wordcount/output/_SUCCESS\n",
      "-rw-r--r--   1 root supergroup        778 2022-11-21 17:23 /tmp/wordcount/output/part-00000\n",
      "-rw-r--r--   1 root supergroup        562 2022-11-21 17:23 /tmp/wordcount/output/part-00001\n",
      "-rw-r--r--   1 root supergroup        510 2022-11-21 17:23 /tmp/wordcount/output/part-00002\n",
      "-rw-r--r--   1 root supergroup        594 2022-11-21 17:23 /tmp/wordcount/output/part-00003\n"
     ]
    }
   ],
   "source": [
    "#\n",
    "# Archivos con los resultados. Note que se\n",
    "# generan varios archivos de resultados.\n",
    "#\n",
    "!hdfs dfs -ls /tmp/wordcount/output/"
   ]
  },
  {
   "cell_type": "code",
   "execution_count": 45,
   "id": "8f65be73-f3f7-45bc-9452-810f8d70a9da",
   "metadata": {},
   "outputs": [
    {
     "name": "stdout",
     "output_type": "stream",
     "text": [
      "('interpretation,', 1)\n",
      "('of', 8)\n",
      "('in', 5)\n",
      "('data.', 1)\n",
      "('Especially', 1)\n",
      "('analytics', 8)\n",
      "('simultaneous', 1)\n",
      "('operations', 1)\n",
      "('research', 2)\n",
      "('quantify', 1)\n",
      "('Organizations', 1)\n",
      "('may', 1)\n",
      "('business', 4)\n",
      "('predict,', 1)\n",
      "('include', 1)\n",
      "('decision', 1)\n",
      "('descriptive', 1)\n",
      "('store', 1)\n",
      "('optimization,', 2)\n",
      "('modeling,', 2)\n",
      "('speech', 1)\n",
      "('promotion', 1)\n",
      "('risk', 1)\n",
      "('fraud', 1)\n",
      "('Since', 1)\n",
      "('algorithms', 1)\n",
      "('used', 3)\n",
      "('harness', 1)\n",
      "('current', 1)\n",
      "('field', 1)\n",
      "('involves', 1)\n",
      "('studying', 1)\n",
      "('potential', 1)\n",
      "('trends,', 1)\n",
      "('performance', 1)\n",
      "('goal', 1)\n",
      "('changes.', 1)\n",
      "('process', 1)\n",
      "('draw', 1)\n",
      "('specialized', 1)\n",
      "('systems', 1)\n",
      "('software.', 1)\n",
      "('techniques', 1)\n",
      "('are', 1)\n",
      "('commercial', 1)\n",
      "('organizations', 1)\n",
      "('disprove', 1)\n",
      "('scientific', 1)\n",
      "('hypotheses.', 1)\n"
     ]
    }
   ],
   "source": [
    "!hdfs dfs -cat /tmp/wordcount/output/part-00000"
   ]
  },
  {
   "cell_type": "code",
   "execution_count": 46,
   "id": "3946dbd0-858d-4903-9b50-1f718bfbb8fd",
   "metadata": {},
   "outputs": [],
   "source": [
    "#\n",
    "# Copia los archivos de resultados a la maquina local\n",
    "#\n",
    "!mkdir -p output\n",
    "!hdfs dfs -getmerge /tmp/wordcount/output/* output/results.txt"
   ]
  },
  {
   "cell_type": "code",
   "execution_count": 47,
   "id": "90d7c81b-fd8a-44f5-8373-0506d7b7cfd0",
   "metadata": {},
   "outputs": [
    {
     "name": "stdout",
     "output_type": "stream",
     "text": [
      "('interpretation,', 1)\n",
      "('of', 8)\n",
      "('in', 5)\n",
      "('data.', 1)\n",
      "('Especially', 1)\n",
      "('analytics', 8)\n",
      "('simultaneous', 1)\n",
      "('operations', 1)\n",
      "('research', 2)\n",
      "('quantify', 1)\n"
     ]
    }
   ],
   "source": [
    "!head output/results.txt"
   ]
  },
  {
   "cell_type": "code",
   "execution_count": 21,
   "id": "3f308f95-8ff6-4e23-bf22-5095b8af2ab4",
   "metadata": {},
   "outputs": [
    {
     "name": "stdout",
     "output_type": "stream",
     "text": [
      "Deleted /tmp/wordcount\n"
     ]
    }
   ],
   "source": [
    "#\n",
    "# Limpieza\n",
    "#\n",
    "!rm -rf input\n",
    "!rm -rf output\n",
    "!hdfs dfs -rm -r -f /tmp/wordcount/"
   ]
  },
  {
   "cell_type": "code",
   "execution_count": null,
   "id": "0a4bf4cb-c45f-4080-9e91-c6a80860b4cd",
   "metadata": {},
   "outputs": [],
   "source": []
  }
 ],
 "metadata": {
  "kernelspec": {
   "display_name": "Python 3 (ipykernel)",
   "language": "python",
   "name": "python3"
  },
  "language_info": {
   "codemirror_mode": {
    "name": "ipython",
    "version": 3
   },
   "file_extension": ".py",
   "mimetype": "text/x-python",
   "name": "python",
   "nbconvert_exporter": "python",
   "pygments_lexer": "ipython3",
   "version": "3.8.10"
  }
 },
 "nbformat": 4,
 "nbformat_minor": 5
}
