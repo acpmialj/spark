{
 "cells": [
  {
   "cell_type": "markdown",
   "id": "ffce5090-4716-482d-a338-b4751f6535ba",
   "metadata": {},
   "source": [
    "# Uso de Spark SQL"
   ]
  },
  {
   "cell_type": "markdown",
   "id": "515b878c-2792-4951-91ac-b30a596e1b6e",
   "metadata": {},
   "source": [
    "## Inicializaciones diversas"
   ]
  },
  {
   "cell_type": "code",
   "execution_count": 5,
   "id": "1e3310e6-c86c-4b72-b22a-e1c7e3054900",
   "metadata": {},
   "outputs": [],
   "source": [
    "# Si ya existe, parar el SparkContext\n",
    "# sc.stop()"
   ]
  },
  {
   "cell_type": "code",
   "execution_count": 4,
   "id": "1b4f1229-fadc-45d2-9cc6-03d825115aed",
   "metadata": {},
   "outputs": [],
   "source": [
    "import findspark\n",
    "from pyspark import SparkConf, SparkContext\n",
    "from pyspark.sql import SparkSession\n",
    "\n",
    "findspark.init()\n",
    "sparkConf = SparkConf().setAppName(\"Flights SparkQL Application\")\n",
    "sc = SparkContext(conf=sparkConf)\n",
    "spark = SparkSession(sc)"
   ]
  },
  {
   "cell_type": "markdown",
   "id": "2ea91149-2128-4c8b-ad87-3e9322bda62a",
   "metadata": {},
   "source": [
    "## Carga de datos y operaciones mediante API DataFrame"
   ]
  },
  {
   "cell_type": "code",
   "execution_count": 8,
   "id": "b36b1d29-4671-43d1-ada4-a9c0e81f8856",
   "metadata": {},
   "outputs": [
    {
     "name": "stdout",
     "output_type": "stream",
     "text": [
      "--2022-11-22 11:19:42--  https://raw.githubusercontent.com/jdvelasq/datalabs/master/datasets/flights.csv\n",
      "Resolving raw.githubusercontent.com (raw.githubusercontent.com)... 185.199.109.133, 185.199.108.133, 185.199.111.133, ...\n",
      "Connecting to raw.githubusercontent.com (raw.githubusercontent.com)|185.199.109.133|:443... connected.\n",
      "HTTP request sent, awaiting response... 200 OK\n",
      "Length: 9719482 (9.3M) [text/plain]\n",
      "Saving to: ‘flights.csv’\n",
      "\n",
      "flights.csv         100%[===================>]   9.27M   964KB/s    in 8.0s    \n",
      "\n",
      "2022-11-22 11:19:50 (1.16 MB/s) - ‘flights.csv’ saved [9719482/9719482]\n",
      "\n"
     ]
    }
   ],
   "source": [
    "!wget https://raw.githubusercontent.com/jdvelasq/datalabs/master/datasets/flights.csv"
   ]
  },
  {
   "cell_type": "code",
   "execution_count": 9,
   "id": "9e8ca216-dc34-498e-b3ab-b091ce9b976c",
   "metadata": {},
   "outputs": [
    {
     "name": "stdout",
     "output_type": "stream",
     "text": [
      "-rw-r--r--   1 root supergroup    9719482 2022-11-22 11:19 /tmp/flights.csv\n"
     ]
    }
   ],
   "source": [
    "#\n",
    "# El archivo flights.csv se encuentra en la capeta de\n",
    "# trabajo de la máquina local. Se copia el archivo\n",
    "# a la carpeta /tmp del sistema HDFS.\n",
    "#\n",
    "!hdfs dfs -copyFromLocal flights.csv /tmp/\n",
    "\n",
    "#\n",
    "# Se listan los archivos en la carpeta /tmp del HDFS\n",
    "# para verificar que el archivo haya sido copiado\n",
    "#\n",
    "!hdfs dfs -ls /tmp/*csv"
   ]
  },
  {
   "cell_type": "code",
   "execution_count": 10,
   "id": "b08b41c6-9cb9-4d62-b11f-8c5d0086651f",
   "metadata": {},
   "outputs": [
    {
     "name": "stderr",
     "output_type": "stream",
     "text": [
      "                                                                                \r"
     ]
    }
   ],
   "source": [
    "#\n",
    "# Crea un DataFrame a partir del archivo fligths.csv\n",
    "#\n",
    "flights = spark.read.load(\"/tmp/flights.csv\",\n",
    "                          format=\"csv\",\n",
    "                          sep=\",\",\n",
    "                          inferSchema=\"true\",\n",
    "                          header=\"true\")"
   ]
  },
  {
   "cell_type": "code",
   "execution_count": 11,
   "id": "f1c92f5f-65e1-46b8-bc68-aeafaefe0391",
   "metadata": {},
   "outputs": [
    {
     "name": "stdout",
     "output_type": "stream",
     "text": [
      "root\n",
      " |-- Year: integer (nullable = true)\n",
      " |-- Month: integer (nullable = true)\n",
      " |-- DayofMonth: integer (nullable = true)\n",
      " |-- DayOfWeek: integer (nullable = true)\n",
      " |-- DepTime: string (nullable = true)\n",
      " |-- CRSDepTime: integer (nullable = true)\n",
      " |-- ArrTime: string (nullable = true)\n",
      " |-- CRSArrTime: integer (nullable = true)\n",
      " |-- UniqueCarrier: string (nullable = true)\n",
      " |-- FlightNum: integer (nullable = true)\n",
      " |-- TailNum: string (nullable = true)\n",
      " |-- ActualElapsedTime: string (nullable = true)\n",
      " |-- CRSElapsedTime: integer (nullable = true)\n",
      " |-- AirTime: string (nullable = true)\n",
      " |-- ArrDelay: string (nullable = true)\n",
      " |-- DepDelay: string (nullable = true)\n",
      " |-- Origin: string (nullable = true)\n",
      " |-- Dest: string (nullable = true)\n",
      " |-- Distance: integer (nullable = true)\n",
      " |-- TaxiIn: string (nullable = true)\n",
      " |-- TaxiOut: string (nullable = true)\n",
      " |-- Cancelled: integer (nullable = true)\n",
      " |-- CancellationCode: string (nullable = true)\n",
      " |-- Diverted: integer (nullable = true)\n",
      " |-- CarrierDelay: string (nullable = true)\n",
      " |-- WeatherDelay: string (nullable = true)\n",
      " |-- NASDelay: string (nullable = true)\n",
      " |-- SecurityDelay: string (nullable = true)\n",
      " |-- LateAircraftDelay: string (nullable = true)\n",
      "\n"
     ]
    }
   ],
   "source": [
    "#\n",
    "# Se imprime el esquema para verificar la lectura\n",
    "# del archivo.\n",
    "#\n",
    "flights.printSchema()"
   ]
  },
  {
   "cell_type": "code",
   "execution_count": 12,
   "id": "502e72dd-a23a-4ab8-8878-cf24a3c3cb04",
   "metadata": {},
   "outputs": [
    {
     "name": "stdout",
     "output_type": "stream",
     "text": [
      "+-------------+---------+--------+--------+--------+\n",
      "|UniqueCarrier|FlightNum|DepDelay|ArrDelay|Distance|\n",
      "+-------------+---------+--------+--------+--------+\n",
      "|           WN|      335|       8|     -14|     810|\n",
      "|           WN|     3231|      19|       2|     810|\n",
      "|           WN|      448|       8|      14|     515|\n",
      "|           WN|     1746|      -4|      -6|     515|\n",
      "|           WN|     3920|      34|      34|     515|\n",
      "+-------------+---------+--------+--------+--------+\n",
      "only showing top 5 rows\n",
      "\n"
     ]
    }
   ],
   "source": [
    "#\n",
    "# Se imprime un subconjunto de las columnas para verificar\n",
    "# la lectura\n",
    "#\n",
    "flights.select(['UniqueCarrier', 'FlightNum', 'DepDelay', 'ArrDelay', 'Distance']).show(5)"
   ]
  },
  {
   "cell_type": "code",
   "execution_count": 17,
   "id": "cf60fafc-42c5-401a-add1-8c6eb76d1635",
   "metadata": {},
   "outputs": [
    {
     "data": {
      "text/plain": [
       "99999"
      ]
     },
     "execution_count": 17,
     "metadata": {},
     "output_type": "execute_result"
    }
   ],
   "source": [
    "#\n",
    "# Número total de registros leidos\n",
    "#\n",
    "numTotalFlights = flights.count()\n",
    "numTotalFlights"
   ]
  },
  {
   "cell_type": "code",
   "execution_count": 18,
   "id": "60d33186-5a5f-42c3-a920-e5671059a406",
   "metadata": {},
   "outputs": [
    {
     "name": "stdout",
     "output_type": "stream",
     "text": [
      "+-------------+--------+\n",
      "|UniqueCarrier|DepDelay|\n",
      "+-------------+--------+\n",
      "|           WN|      19|\n",
      "|           WN|      34|\n",
      "|           WN|      25|\n",
      "|           WN|      67|\n",
      "|           WN|      94|\n",
      "+-------------+--------+\n",
      "only showing top 5 rows\n",
      "\n"
     ]
    }
   ],
   "source": [
    "#\n",
    "# La variable delayedFlights contiene las columnas UniqueCarrier y DepDelay\n",
    "# para los vuelos con DepDelay > 15 minutos.\n",
    "#\n",
    "delayedFlights = flights.select(['UniqueCarrier', 'DepDelay']).filter(flights['DepDelay'] > 15)\n",
    "delayedFlights.show(5)"
   ]
  },
  {
   "cell_type": "code",
   "execution_count": 19,
   "id": "dc439eb9-8964-4a51-980a-d5d2e4fc5505",
   "metadata": {},
   "outputs": [
    {
     "name": "stdout",
     "output_type": "stream",
     "text": [
      "Porcentaje de vuelos retrasados: 19.58719587195872%\n"
     ]
    }
   ],
   "source": [
    "#\n",
    "# Calculamos el porcentaje de vuelos retrasados.\n",
    "#\n",
    "numDelayedFlights = delayedFlights.count()\n",
    "print(\"Porcentaje de vuelos retrasados: \" + str(numDelayedFlights / numTotalFlights * 100) + \"%\")"
   ]
  },
  {
   "cell_type": "code",
   "execution_count": 20,
   "id": "834f3fc7-852e-4583-bd3f-8a3a51b06f7a",
   "metadata": {},
   "outputs": [],
   "source": [
    "#\n",
    "# Definición de un UDF (User-Defined Function). De momento solo  la definimos. \n",
    "# Luego se aplicará sobre el DataFrame. El parámetro time será la columna DepDelay\n",
    "# Devuelve 0 cuando no hay retraso, o el menor a 15 min. Devuelve 1 en caso contrario\n",
    "#\n",
    "def is_delayed_py(time):\n",
    "    if time == \"NA\":\n",
    "        return 0\n",
    "    elif int(time) > 15:\n",
    "        return 1\n",
    "    else:\n",
    "        return 0"
   ]
  },
  {
   "cell_type": "code",
   "execution_count": 21,
   "id": "00ac2167-951e-427e-8a8f-d224ea557e9b",
   "metadata": {},
   "outputs": [
    {
     "name": "stdout",
     "output_type": "stream",
     "text": [
      "+--------+---------+\n",
      "|DepDelay|isDelayed|\n",
      "+--------+---------+\n",
      "|       8|        0|\n",
      "|      19|        1|\n",
      "|       8|        0|\n",
      "|      -4|        0|\n",
      "|      34|        1|\n",
      "|      25|        1|\n",
      "|      67|        1|\n",
      "|      -1|        0|\n",
      "|       2|        0|\n",
      "|       0|        0|\n",
      "+--------+---------+\n",
      "only showing top 10 rows\n",
      "\n"
     ]
    },
    {
     "name": "stderr",
     "output_type": "stream",
     "text": [
      "                                                                                \r"
     ]
    }
   ],
   "source": [
    "#\n",
    "# Importa el módulo \"udf\" que permite registrar UDFs\n",
    "# escritas en Python dentro de Spark\n",
    "#\n",
    "from pyspark.sql.functions import udf\n",
    "from pyspark.sql.types import LongType\n",
    "\n",
    "#\n",
    "# Se registra la función con el tipo de dato que devuelve.\n",
    "# Indicamos que is_delayed_py, que toma un parámetro de tipo Long, es una UDF. \n",
    "# Obtenemos un \"handler\" que luego podemos usar en nuestro código SQL\n",
    "#\n",
    "is_delayed_udf = udf(is_delayed_py, LongType())\n",
    "\n",
    "#\n",
    "# Se crea un nuevo DataFrame que contiene la columna\n",
    "# IsDelayed, la cual es computada con la UDF\n",
    "#\n",
    "flightsWithDelays = flights.select('Year',\n",
    "                                   'Month',\n",
    "                                   'DayofMonth',\n",
    "                                   'UniqueCarrier',\n",
    "                                   'FlightNum',\n",
    "                                   'DepDelay',\n",
    "                                   is_delayed_udf(\"DepDelay\").alias(\"IsDelayed\"))\n",
    "\n",
    "#\n",
    "# Se imprimen algunos registros para verificar el resultado.\n",
    "#\n",
    "flightsWithDelays.select('DepDelay', 'isDelayed').show(10)"
   ]
  },
  {
   "cell_type": "code",
   "execution_count": 23,
   "id": "71e5bbcc-b138-4917-90f0-2ae0686c8b8a",
   "metadata": {},
   "outputs": [
    {
     "name": "stdout",
     "output_type": "stream",
     "text": [
      "+-------------------------------+\n",
      "|Porcentaje de vuelos retrasados|\n",
      "+-------------------------------+\n",
      "|              19.58719587195872|\n",
      "+-------------------------------+\n",
      "\n"
     ]
    }
   ],
   "source": [
    "#\n",
    "# A continuación, se calcula el porcentaje de vuelos con retrasos > 15 min.\n",
    "# Usamos para ello funciones de agregación Spark: sum() y count()\n",
    "#\n",
    "from pyspark.sql import functions as F\n",
    "\n",
    "flightsWithDelays.agg((F.sum('IsDelayed') * 100 / F.count('DepDelay')) \\\n",
    "                      .alias(\"Porcentaje de vuelos retrasados\")).show()"
   ]
  },
  {
   "cell_type": "code",
   "execution_count": 26,
   "id": "d6ecd484-9480-4a63-bf3f-9fa1e89e037f",
   "metadata": {},
   "outputs": [
    {
     "name": "stdout",
     "output_type": "stream",
     "text": [
      "+------+----+------------------+\n",
      "|Origin|Dest|         AvgTaxiIn|\n",
      "+------+----+------------------+\n",
      "|   CLT| IAH|              22.0|\n",
      "|   IAH| ABQ|              18.0|\n",
      "|   MCI| IAH|14.666666666666666|\n",
      "|   BHM| EWR|              13.0|\n",
      "|   SMF| GEG|12.462962962962964|\n",
      "|   CRW| IAH|              12.0|\n",
      "|   MHT| CLE|              12.0|\n",
      "|   IAH| JAX|              11.0|\n",
      "|   ONT| COS|10.903225806451612|\n",
      "|   SMF| COS|10.610169491525424|\n",
      "+------+----+------------------+\n",
      "only showing top 10 rows\n",
      "\n"
     ]
    }
   ],
   "source": [
    "#\n",
    "# En este código se ilustra como computar un promedio\n",
    "# y luego realizar el ordenamiento de la tabla por\n",
    "# ese mismo promedio.\n",
    "#\n",
    "(flights.select(\"Origin\", \"Dest\", \"TaxiIn\") \\\n",
    "    .groupBy(\"Origin\", \"Dest\") \\\n",
    "    .agg(F.avg(\"TaxiIn\").alias(\"AvgTaxiIn\"))) \\\n",
    "        .orderBy(\"AvgTaxiIn\", ascending = False) \\\n",
    "        .show(10)"
   ]
  },
  {
   "cell_type": "code",
   "execution_count": 27,
   "id": "d5f9fc2d-ebc8-4c08-b6f1-befc413b6a91",
   "metadata": {},
   "outputs": [
    {
     "name": "stdout",
     "output_type": "stream",
     "text": [
      "+------+----+----------+\n",
      "|Origin|Dest|AvgTaxiOut|\n",
      "+------+----+----------+\n",
      "|   LCH| IAH|      84.0|\n",
      "|   EWR| BHM|      63.0|\n",
      "|   EWR| SDF|      45.0|\n",
      "|   EWR| GSO|      36.5|\n",
      "|   MHT| CLE|      33.0|\n",
      "|   EWR| JAX|      28.0|\n",
      "|   CLE| SDF|      27.0|\n",
      "|   EWR| DTW|      27.0|\n",
      "|   ORD| EWR|      26.0|\n",
      "|   EWR| MCI|      26.0|\n",
      "+------+----+----------+\n",
      "only showing top 10 rows\n",
      "\n"
     ]
    }
   ],
   "source": [
    "#\n",
    "# En este código se ilustra como computar un promedio\n",
    "# y luego realizar el ordenamiento de la tabla por\n",
    "# ese mismo promedio.\n",
    "#\n",
    "(flights.select(\"Origin\", \"Dest\", \"TaxiOut\") \\\n",
    "    .groupBy(\"Origin\", \"Dest\") \\\n",
    "    .agg(F.avg(\"TaxiOut\").alias(\"AvgTaxiOut\"))) \\\n",
    "        .orderBy(\"AvgTaxiOut\", ascending = False) \\\n",
    "        .show(10)"
   ]
  },
  {
   "cell_type": "markdown",
   "id": "adbb32a6-fb7b-4793-9bc3-7150189e636f",
   "metadata": {},
   "source": [
    "## Uso de Spark SQL"
   ]
  },
  {
   "cell_type": "code",
   "execution_count": 34,
   "id": "da3117df-395c-4078-b37b-1a41684263ef",
   "metadata": {},
   "outputs": [],
   "source": [
    "#\n",
    "# Se crea la tabla para hacer consultas SQL -- Una vista (temporal)\n",
    "#\n",
    "flights.createOrReplaceTempView('flightsView')"
   ]
  },
  {
   "cell_type": "code",
   "execution_count": 39,
   "id": "81e6d161-4285-457d-8ff4-7566204ff484",
   "metadata": {},
   "outputs": [
    {
     "name": "stderr",
     "output_type": "stream",
     "text": [
      "22/11/22 11:40:59 WARN analysis.SimpleFunctionRegistry: The function isdelayed_sql replaced a previously registered function.\n"
     ]
    },
    {
     "name": "stdout",
     "output_type": "stream",
     "text": [
      "+--------+---------+\n",
      "|DepDelay|isDelayed|\n",
      "+--------+---------+\n",
      "|       8|        0|\n",
      "|      19|        1|\n",
      "|       8|        0|\n",
      "|      -4|        0|\n",
      "|      34|        1|\n",
      "|      25|        1|\n",
      "|      67|        1|\n",
      "|      -1|        0|\n",
      "|       2|        0|\n",
      "|       0|        0|\n",
      "+--------+---------+\n",
      "only showing top 10 rows\n",
      "\n"
     ]
    },
    {
     "name": "stderr",
     "output_type": "stream",
     "text": [
      "Traceback (most recent call last):\n",
      "  File \"/opt/spark/python/lib/pyspark.zip/pyspark/daemon.py\", line 186, in manager\n",
      "  File \"/opt/spark/python/lib/pyspark.zip/pyspark/daemon.py\", line 74, in worker\n",
      "  File \"/opt/spark/python/lib/pyspark.zip/pyspark/worker.py\", line 643, in main\n",
      "    if read_int(infile) == SpecialLengths.END_OF_STREAM:\n",
      "  File \"/opt/spark/python/lib/pyspark.zip/pyspark/serializers.py\", line 564, in read_int\n",
      "    raise EOFError\n",
      "EOFError\n"
     ]
    }
   ],
   "source": [
    "#\n",
    "# Se registra la UDF is_delayed_py para usarla con Spark SQL\n",
    "#\n",
    "from pyspark.sql.types import LongType\n",
    "\n",
    "spark.udf.register('isDelayed_SQL', is_delayed_py)\n",
    "\n",
    "#\n",
    "# Aplicamos la UDF. Nótese la consulta: spark.sql y entre \" triples va el texto de la consulta\n",
    "# Parte de la misma es la UDF\n",
    "#\n",
    "spark.sql(\"\"\"\n",
    "SELECT\n",
    "    DepDelay,\n",
    "    isDelayed_SQL(DepDelay) as isDelayed\n",
    "FROM\n",
    "    flightsView\n",
    "\"\"\").show(10)"
   ]
  },
  {
   "cell_type": "code",
   "execution_count": 40,
   "id": "8b0f9749-50ab-417b-97f0-0ca96a5c2701",
   "metadata": {},
   "outputs": [
    {
     "name": "stdout",
     "output_type": "stream",
     "text": [
      "+-------------+---------+\n",
      "|UniqueCarrier|NumDelays|\n",
      "+-------------+---------+\n",
      "|           XE|   1014.0|\n",
      "|           WN|  18573.0|\n",
      "+-------------+---------+\n",
      "\n"
     ]
    }
   ],
   "source": [
    "#\n",
    "# Numero total de retrasos por transportador\n",
    "#\n",
    "spark.sql(\"\"\"\n",
    "SELECT\n",
    "    UniqueCarrier,\n",
    "    SUM(isDelayed_SQL(DepDelay)) AS NumDelays\n",
    "FROM\n",
    "    flightsView\n",
    "GROUP BY\n",
    "    UniqueCarrier\n",
    "\"\"\").show()"
   ]
  },
  {
   "cell_type": "code",
   "execution_count": 41,
   "id": "a8617707-3ed2-4367-a653-3211e7e8ecc3",
   "metadata": {},
   "outputs": [
    {
     "data": {
      "image/png": "[encoded data removed]",
      "text/plain": [
       "<Figure size 432x288 with 1 Axes>"
      ]
     },
     "metadata": {
      "needs_background": "light"
     },
     "output_type": "display_data"
    }
   ],
   "source": [
    "%matplotlib inline\n",
    "\n",
    "spark.sql(\"\"\"\n",
    "SELECT\n",
    "    UniqueCarrier,\n",
    "    SUM(isDelayed_SQL(DepDelay)) AS NumDelays\n",
    "FROM\n",
    "    flightsView\n",
    "GROUP BY\n",
    "    UniqueCarrier\n",
    "\"\"\").toPandas().plot.bar();"
   ]
  },
  {
   "cell_type": "code",
   "execution_count": 42,
   "id": "2f3f9150-b471-4630-b59c-96de5f570001",
   "metadata": {},
   "outputs": [
    {
     "name": "stdout",
     "output_type": "stream",
     "text": [
      "+-------------+-------------------+\n",
      "|UniqueCarrier|AvgDistanceTraveled|\n",
      "+-------------+-------------------+\n",
      "|           XE|  738.0462651413189|\n",
      "|           WN|  623.7926638668864|\n",
      "+-------------+-------------------+\n",
      "\n"
     ]
    }
   ],
   "source": [
    "#\n",
    "# Distancia recorrida por operador\n",
    "#\n",
    "spark.sql(\"\"\"\n",
    "SELECT\n",
    "    UniqueCarrier,\n",
    "    avg(Distance) AS AvgDistanceTraveled\n",
    "FROM\n",
    "    flightsView\n",
    "GROUP BY\n",
    "    UniqueCarrier\n",
    "ORDER BY\n",
    "    AvgDistanceTraveled DESC\n",
    "\"\"\").show()"
   ]
  },
  {
   "cell_type": "code",
   "execution_count": 44,
   "id": "0a2f701c-7744-458f-8ce6-a229c6339490",
   "metadata": {},
   "outputs": [
    {
     "name": "stdout",
     "output_type": "stream",
     "text": [
      "+---------+-------+-----+\n",
      "|DayOfWeek|delayed|Count|\n",
      "+---------+-------+-----+\n",
      "|        1|      0|11863|\n",
      "|        1|      1| 2656|\n",
      "|        2|      0|12910|\n",
      "|        2|      1| 1799|\n",
      "|        3|      0|13260|\n",
      "|        3|      1| 1434|\n",
      "|        4|      0|12271|\n",
      "|        4|      1| 4808|\n",
      "|        5|      0|11003|\n",
      "|        5|      1| 3514|\n",
      "|        6|      0| 9407|\n",
      "|        6|      1| 1878|\n",
      "|        7|      0| 9698|\n",
      "|        7|      1| 3498|\n",
      "+---------+-------+-----+\n",
      "\n"
     ]
    }
   ],
   "source": [
    "spark.sql(\"\"\"\n",
    "SELECT\n",
    "    DayOfWeek,\n",
    "    delayed,\n",
    "    COUNT(1) AS Count\n",
    "FROM\n",
    "    (SELECT\n",
    "        DayOfWeek,\n",
    "        isDelayed_SQL(DepDelay) AS delayed\n",
    "     FROM\n",
    "        flightsView)\n",
    "GROUP BY\n",
    "    DayOfWeek,\n",
    "    delayed\n",
    "ORDER BY\n",
    "    DayOfWeek, delayed\n",
    "\"\"\").show()"
   ]
  },
  {
   "cell_type": "code",
   "execution_count": 45,
   "id": "642b5203-69b3-472b-a6bf-82780288a1ef",
   "metadata": {},
   "outputs": [
    {
     "name": "stdout",
     "output_type": "stream",
     "text": [
      "+----+-------+-----+\n",
      "|Hour|delayed|Count|\n",
      "+----+-------+-----+\n",
      "|   6|      0| 6126|\n",
      "|   6|      1|  208|\n",
      "|   7|      0| 7274|\n",
      "|   7|      1|  372|\n",
      "|   8|      0| 5956|\n",
      "|   8|      1|  547|\n",
      "|   9|      0| 5861|\n",
      "|   9|      1|  761|\n",
      "|  10|      0| 5783|\n",
      "|  10|      1|  903|\n",
      "|  11|      0| 5115|\n",
      "|  11|      1|  986|\n",
      "|  12|      0| 5174|\n",
      "|  12|      1| 1128|\n",
      "|  13|      0| 5225|\n",
      "|  13|      1| 1346|\n",
      "|  14|      0| 4434|\n",
      "|  14|      1| 1335|\n",
      "|  15|      0| 4818|\n",
      "|  15|      1| 1562|\n",
      "+----+-------+-----+\n",
      "only showing top 20 rows\n",
      "\n"
     ]
    }
   ],
   "source": [
    "spark.sql(\"\"\"\n",
    "SELECT\n",
    "    Hour,\n",
    "    delayed,\n",
    "    COUNT(1) AS Count\n",
    "FROM\n",
    "(\n",
    "    SELECT\n",
    "        CAST(CRSDepTime / 100 AS INT) AS Hour,\n",
    "        isDelayed_SQL(DepDelay) AS delayed\n",
    "    FROM\n",
    "        flightsView\n",
    ")\n",
    "GROUP BY\n",
    "    Hour, delayed\n",
    "ORDER BY\n",
    "    Hour, delayed\n",
    "\"\"\").show()"
   ]
  },
  {
   "cell_type": "code",
   "execution_count": 46,
   "id": "7a03c2b0-9a02-47bf-ad08-afaca6021474",
   "metadata": {},
   "outputs": [
    {
     "name": "stderr",
     "output_type": "stream",
     "text": [
      "                                                                                \r"
     ]
    }
   ],
   "source": [
    "#\n",
    "# Se salva la tabla calculada al directorio tmp del HDFS.\n",
    "# Primero se borra si existe.\n",
    "#\n",
    "!hdfs dfs -rm -r -f /tmp/flightsWithDelays.orc\n",
    "\n",
    "# Se salva en formato ORC\n",
    "flightsWithDelays.write.format(\"orc\").save(\"/tmp/flightsWithDelays.orc\")"
   ]
  },
  {
   "cell_type": "code",
   "execution_count": 47,
   "id": "cb2d8c25-8217-4afb-8850-ee289af0d6ba",
   "metadata": {},
   "outputs": [
    {
     "name": "stdout",
     "output_type": "stream",
     "text": [
      "Found 4 items\n",
      "-rw-r--r--   1 root supergroup          0 2022-11-22 11:45 /tmp/flightsWithDelays.orc/_SUCCESS\n",
      "-rw-r--r--   1 root supergroup      89189 2022-11-22 11:45 /tmp/flightsWithDelays.orc/part-00000-42f2f3a0-39b4-4a6c-82cf-8669272e1bc0-c000.snappy.orc\n",
      "-rw-r--r--   1 root supergroup     104992 2022-11-22 11:45 /tmp/flightsWithDelays.orc/part-00001-42f2f3a0-39b4-4a6c-82cf-8669272e1bc0-c000.snappy.orc\n",
      "-rw-r--r--   1 root supergroup      34362 2022-11-22 11:45 /tmp/flightsWithDelays.orc/part-00002-42f2f3a0-39b4-4a6c-82cf-8669272e1bc0-c000.snappy.orc\n"
     ]
    }
   ],
   "source": [
    "#\n",
    "# Contenido del directorio donde se salvó la tabla\n",
    "#\n",
    "!hdfs dfs -ls /tmp/flightsWithDelays.orc"
   ]
  },
  {
   "cell_type": "code",
   "execution_count": 54,
   "id": "f520cadc-737b-4212-836d-13851d833b61",
   "metadata": {},
   "outputs": [],
   "source": [
    "#\n",
    "# Se lee la tabla calculada desde el HDFS\n",
    "#\n",
    "test = spark.read.format(\"orc\").load(\"/tmp/flightsWithDelays.orc\")\n",
    "\n",
    "# verifica la cantidad de registros.\n",
    "assert test.count() == flightsWithDelays.count(), print(\"Archivos con diferentes tamaños.\")"
   ]
  },
  {
   "cell_type": "code",
   "execution_count": 55,
   "id": "deced21d-5648-4db8-8d45-0448197d967c",
   "metadata": {},
   "outputs": [],
   "source": [
    "#\n",
    "# La tabla queda guardada en la carpeta\n",
    "# spark-warehouse del directorio actual\n",
    "#\n",
    "!rm -rf spark-warehouse/flightswithdelaystbl\n",
    "flightsWithDelays.write.format(\"orc\").saveAsTable(\"flightswithdelaystbl\")"
   ]
  },
  {
   "cell_type": "code",
   "execution_count": 56,
   "id": "91310b1f-b504-4df6-8c14-9e4c7ec4c872",
   "metadata": {},
   "outputs": [
    {
     "name": "stdout",
     "output_type": "stream",
     "text": [
      "+--------+--------------------+-----------+\n",
      "|database|           tableName|isTemporary|\n",
      "+--------+--------------------+-----------+\n",
      "| default|flightswithdelaystbl|      false|\n",
      "|        |         flightsview|       true|\n",
      "+--------+--------------------+-----------+\n",
      "\n"
     ]
    }
   ],
   "source": [
    "spark.sql(\"SHOW TABLES\").show()"
   ]
  },
  {
   "cell_type": "code",
   "execution_count": 57,
   "id": "f4f6002a-f5cf-4e73-a68c-03436aafcd90",
   "metadata": {},
   "outputs": [
    {
     "name": "stdout",
     "output_type": "stream",
     "text": [
      "+-----+\n",
      "|Total|\n",
      "+-----+\n",
      "|99999|\n",
      "+-----+\n",
      "\n"
     ]
    }
   ],
   "source": [
    "#\n",
    "# Note que cuando la tabla está almacenada de forma\n",
    "# permanente no es necesario cargarla a la memoria\n",
    "# para poder usarla.\n",
    "#\n",
    "spark.sql(\"SELECT COUNT(1) AS Total from flightswithdelaystbl\").show()"
   ]
  },
  {
   "cell_type": "code",
   "execution_count": 58,
   "id": "1fb5e1d9-f4f2-484d-b087-70d78e7a86f1",
   "metadata": {},
   "outputs": [
    {
     "name": "stdout",
     "output_type": "stream",
     "text": [
      "+--------+-----------+-----------+\n",
      "|database|  tableName|isTemporary|\n",
      "+--------+-----------+-----------+\n",
      "|        |flightsview|       true|\n",
      "+--------+-----------+-----------+\n",
      "\n"
     ]
    }
   ],
   "source": [
    "# \n",
    "# Se borran las tablas para limpiar el área de trabajo.\n",
    "#\n",
    "spark.sql(\"DROP TABLE flightswithdelaystbl\")\n",
    "spark.sql(\"SHOW TABLES\").show()"
   ]
  },
  {
   "cell_type": "code",
   "execution_count": null,
   "id": "4cb51f24-d75a-4f05-adc1-c04c352cf702",
   "metadata": {},
   "outputs": [],
   "source": [
    "# \n",
    "# Toca limpieza\n",
    "#\n",
    "# !hdfs dfs -rm /tmp/flights.csv\n",
    "# !rm flights* data.txt"
   ]
  }
 ],
 "metadata": {
  "kernelspec": {
   "display_name": "Python 3 (ipykernel)",
   "language": "python",
   "name": "python3"
  },
  "language_info": {
   "codemirror_mode": {
    "name": "ipython",
    "version": 3
   },
   "file_extension": ".py",
   "mimetype": "text/x-python",
   "name": "python",
   "nbconvert_exporter": "python",
   "pygments_lexer": "ipython3",
   "version": "3.8.10"
  }
 },
 "nbformat": 4,
 "nbformat_minor": 5
}
